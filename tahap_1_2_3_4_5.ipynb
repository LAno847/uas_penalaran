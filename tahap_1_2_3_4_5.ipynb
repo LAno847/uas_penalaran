{
  "nbformat": 4,
  "nbformat_minor": 0,
  "metadata": {
    "colab": {
      "provenance": [],
      "authorship_tag": "ABX9TyMc/rA35xl3LQK5Jsq6hfcp"
    },
    "kernelspec": {
      "name": "python3",
      "display_name": "Python 3"
    },
    "language_info": {
      "name": "python"
    }
  },
  "cells": [
    {
      "cell_type": "markdown",
      "source": [
        "# TAHAP 1"
      ],
      "metadata": {
        "id": "ZE7K0vdFtub6"
      }
    },
    {
      "cell_type": "code",
      "source": [
        "from google.colab import drive\n",
        "drive.mount('/content/drive')\n"
      ],
      "metadata": {
        "colab": {
          "base_uri": "https://localhost:8080/"
        },
        "id": "GtdwrOEKqgiq",
        "executionInfo": {
          "status": "ok",
          "timestamp": 1751013252252,
          "user_tz": -420,
          "elapsed": 17505,
          "user": {
            "displayName": "Bastian Feraries Wijaya",
            "userId": "16724100675661699270"
          }
        },
        "outputId": "584530c7-2834-43b2-aa77-afab741e496d"
      },
      "execution_count": 3,
      "outputs": [
        {
          "output_type": "stream",
          "name": "stdout",
          "text": [
            "Mounted at /content/drive\n"
          ]
        }
      ]
    },
    {
      "cell_type": "code",
      "source": [
        "!pip install pdfminer.six\n"
      ],
      "metadata": {
        "colab": {
          "base_uri": "https://localhost:8080/"
        },
        "id": "Mo3ylYdasrNL",
        "executionInfo": {
          "status": "ok",
          "timestamp": 1750965866533,
          "user_tz": -420,
          "elapsed": 5798,
          "user": {
            "displayName": "Bastian Feraries Wijaya",
            "userId": "16724100675661699270"
          }
        },
        "outputId": "97ec3a75-d6f6-4f61-9e7d-e0e847e46cd3"
      },
      "execution_count": null,
      "outputs": [
        {
          "output_type": "stream",
          "name": "stdout",
          "text": [
            "Collecting pdfminer.six\n",
            "  Downloading pdfminer_six-20250506-py3-none-any.whl.metadata (4.2 kB)\n",
            "Requirement already satisfied: charset-normalizer>=2.0.0 in /usr/local/lib/python3.11/dist-packages (from pdfminer.six) (3.4.2)\n",
            "Requirement already satisfied: cryptography>=36.0.0 in /usr/local/lib/python3.11/dist-packages (from pdfminer.six) (43.0.3)\n",
            "Requirement already satisfied: cffi>=1.12 in /usr/local/lib/python3.11/dist-packages (from cryptography>=36.0.0->pdfminer.six) (1.17.1)\n",
            "Requirement already satisfied: pycparser in /usr/local/lib/python3.11/dist-packages (from cffi>=1.12->cryptography>=36.0.0->pdfminer.six) (2.22)\n",
            "Downloading pdfminer_six-20250506-py3-none-any.whl (5.6 MB)\n",
            "\u001b[?25l   \u001b[90m\u2501\u2501\u2501\u2501\u2501\u2501\u2501\u2501\u2501\u2501\u2501\u2501\u2501\u2501\u2501\u2501\u2501\u2501\u2501\u2501\u2501\u2501\u2501\u2501\u2501\u2501\u2501\u2501\u2501\u2501\u2501\u2501\u2501\u2501\u2501\u2501\u2501\u2501\u2501\u2501\u001b[0m \u001b[32m0.0/5.6 MB\u001b[0m \u001b[31m?\u001b[0m eta \u001b[36m-:--:--\u001b[0m\r\u001b[2K   \u001b[91m\u2501\u001b[0m\u001b[90m\u257a\u001b[0m\u001b[90m\u2501\u2501\u2501\u2501\u2501\u2501\u2501\u2501\u2501\u2501\u2501\u2501\u2501\u2501\u2501\u2501\u2501\u2501\u2501\u2501\u2501\u2501\u2501\u2501\u2501\u2501\u2501\u2501\u2501\u2501\u2501\u2501\u2501\u2501\u2501\u2501\u2501\u2501\u001b[0m \u001b[32m0.1/5.6 MB\u001b[0m \u001b[31m4.1 MB/s\u001b[0m eta \u001b[36m0:00:02\u001b[0m\r\u001b[2K   \u001b[91m\u2501\u2501\u2501\u2501\u2501\u2501\u2501\u2501\u001b[0m\u001b[91m\u2578\u001b[0m\u001b[90m\u2501\u2501\u2501\u2501\u2501\u2501\u2501\u2501\u2501\u2501\u2501\u2501\u2501\u2501\u2501\u2501\u2501\u2501\u2501\u2501\u2501\u2501\u2501\u2501\u2501\u2501\u2501\u2501\u2501\u2501\u2501\u001b[0m \u001b[32m1.2/5.6 MB\u001b[0m \u001b[31m17.3 MB/s\u001b[0m eta \u001b[36m0:00:01\u001b[0m\r\u001b[2K   \u001b[91m\u2501\u2501\u2501\u2501\u2501\u2501\u2501\u2501\u2501\u2501\u2501\u2501\u2501\u2501\u2501\u2501\u2501\u2501\u2501\u2501\u2501\u2501\u2501\u2501\u2501\u2501\u2501\u2501\u2501\u2501\u2501\u2501\u2501\u2501\u2501\u2501\u2501\u2501\u2501\u001b[0m\u001b[91m\u2578\u001b[0m \u001b[32m5.6/5.6 MB\u001b[0m \u001b[31m55.8 MB/s\u001b[0m eta \u001b[36m0:00:01\u001b[0m\r\u001b[2K   \u001b[90m\u2501\u2501\u2501\u2501\u2501\u2501\u2501\u2501\u2501\u2501\u2501\u2501\u2501\u2501\u2501\u2501\u2501\u2501\u2501\u2501\u2501\u2501\u2501\u2501\u2501\u2501\u2501\u2501\u2501\u2501\u2501\u2501\u2501\u2501\u2501\u2501\u2501\u2501\u2501\u2501\u001b[0m \u001b[32m5.6/5.6 MB\u001b[0m \u001b[31m43.2 MB/s\u001b[0m eta \u001b[36m0:00:00\u001b[0m\n",
            "\u001b[?25hInstalling collected packages: pdfminer.six\n",
            "Successfully installed pdfminer.six-20250506\n"
          ]
        }
      ]
    },
    {
      "cell_type": "code",
      "execution_count": null,
      "metadata": {
        "colab": {
          "base_uri": "https://localhost:8080/"
        },
        "id": "EG0gLhDbcbdI",
        "executionInfo": {
          "status": "ok",
          "timestamp": 1750965986778,
          "user_tz": -420,
          "elapsed": 113319,
          "user": {
            "displayName": "Bastian Feraries Wijaya",
            "userId": "16724100675661699270"
          }
        },
        "outputId": "87f41e95-b652-4687-91b3-120a713d5997"
      },
      "outputs": [
        {
          "output_type": "stream",
          "name": "stdout",
          "text": [
            "\ud83d\udd04 Memproses: Copy of putusan_1012_pid.b_2024_pn_smr_20250624013825.pdf\n",
            "\ud83d\udd04 Memproses: Copy of putusan_1015_pid.b_2024_pn_smr_20250624013915.pdf\n",
            "\ud83d\udd04 Memproses: Copy of putusan_553_pid.b_2024_pn_smr_20250624014232.pdf\n",
            "\ud83d\udd04 Memproses: Copy of putusan_571_pid.b_2024_pn_smr_20250624014238.pdf\n",
            "\ud83d\udd04 Memproses: Copy of putusan_572_pid.b_2024_pn_smr_20250624014150.pdf\n",
            "\ud83d\udd04 Memproses: Copy of putusan_573_pid.b_2024_pn_smr_20250624014102.pdf\n",
            "\ud83d\udd04 Memproses: Copy of putusan_579_pid.b_2024_pn_smr_20250624014504.pdf\n",
            "\ud83d\udd04 Memproses: Copy of putusan_598_pid.b_2024_pn_smr_20250624013831.pdf\n",
            "\ud83d\udd04 Memproses: Copy of putusan_615_pid.b_2024_pn_smr_20250624014144.pdf\n",
            "\ud83d\udd04 Memproses: Copy of putusan_616_pid.b_2024_pn_smr_20250624014545.pdf\n",
            "\ud83d\udd04 Memproses: Copy of putusan_619_pid.b_2024_pn_smr_20250624014415.pdf\n",
            "\ud83d\udd04 Memproses: Copy of putusan_621_pid.b_2024_pn_smr_20250624014332.pdf\n",
            "\ud83d\udd04 Memproses: Copy of putusan_637_pid.b_2024_pn_smr_20250624014058.pdf\n",
            "\ud83d\udd04 Memproses: Copy of putusan_646_pid.b_2024_pn_smr_20250624013838.pdf\n",
            "\ud83d\udd04 Memproses: Copy of putusan_657_pid.b_2024_pn_smr_20250624014320.pdf\n",
            "\ud83d\udd04 Memproses: Copy of putusan_662_pid.b_2024_pn_smr_20250624014007.pdf\n",
            "\ud83d\udd04 Memproses: Copy of putusan_665_pid.b_2024_pn_smr_20250624014451.pdf\n",
            "\ud83d\udd04 Memproses: Copy of putusan_678_pid.b_2024_pn_smr_20250624013919.pdf\n",
            "\ud83d\udd04 Memproses: Copy of putusan_688_pid.b_2024_pn_smr_20250624014605.pdf\n",
            "\ud83d\udd04 Memproses: Copy of putusan_689_pid.b_2024_pn_smr_20250624014515.pdf\n",
            "\ud83d\udd04 Memproses: Copy of putusan_705_pid.b_2024_pn_smr_20250624014408.pdf\n",
            "\ud83d\udd04 Memproses: Copy of putusan_720_pid.b_2024_pn_smr_20250624014533.pdf\n",
            "\ud83d\udd04 Memproses: Copy of putusan_722_pid.b_2024_pn_smr_20250624014014.pdf\n",
            "\ud83d\udd04 Memproses: Copy of putusan_764_pid.b_2024_pn_smr_20250624013925.pdf\n",
            "\ud83d\udd04 Memproses: Copy of putusan_768_pid.b_2024_pn_smr_20250624013843.pdf\n",
            "\ud83d\udd04 Memproses: Copy of putusan_787_pid.b_2024_pn_smr_20250624014022.pdf\n",
            "\ud83d\udd04 Memproses: Copy of putusan_805_pid.b_2024_pn_smr_20250624014156.pdf\n",
            "\ud83d\udd04 Memproses: Copy of putusan_818_pid.b_2024_pn_smr_20250624014333.pdf\n",
            "\ud83d\udd04 Memproses: Copy of putusan_822_pid.b_2024_pn_smr_20250624014108.pdf\n",
            "\ud83d\udd04 Memproses: Copy of putusan_858_pid.b_2024_pn_smr_20250624014244.pdf\n",
            "\ud83d\udd04 Memproses: Copy of putusan_859_pid.b_2024_pn_smr_20250624014420.pdf\n",
            "\ud83d\udd04 Memproses: Copy of putusan_877_pid.b_2024_pn_smr_20250624013933.pdf\n",
            "\ud83d\udd04 Memproses: Copy of putusan_900_pid.b_2024_pn_smr_20250624014314.pdf\n",
            "\ud83d\udd04 Memproses: Copy of putusan_944_pid.b_2024_pn_smr_20250624014458.pdf\n",
            "\ud83d\udd04 Memproses: Copy of putusan_960_pid.b_2024_pn_smr_20250624014138.pdf\n",
            "\ud83d\udd04 Memproses: Copy of putusan_963_pid.b_2024_pn_smr_20250624014001.pdf\n",
            "\ud83d\udd04 Memproses: Copy of putusan_974_pid.b_2024_pn_smr_20250624014049.pdf\n",
            "\n",
            "\u2705 Selesai. 36 file berhasil disimpan di /data/raw/\n",
            "\ud83d\udcdd Log tersimpan di: /content/drive/MyDrive/penalaran_uas/logs/cleaning.log\n"
          ]
        }
      ],
      "source": [
        "# 01_build_case_base.py\n",
        "\n",
        "import os\n",
        "import re\n",
        "from pdfminer.high_level import extract_text\n",
        "from pathlib import Path\n",
        "\n",
        "# ----------------------------\n",
        "# KONFIGURASI\n",
        "# ----------------------------\n",
        "PDF_DIR = \"/content/drive/MyDrive/penalaran_uas/pdf\"\n",
        "RAW_TEXT_DIR = \"/content/drive/MyDrive/penalaran_uas/data/raw\"\n",
        "LOG_PATH = \"/content/drive/MyDrive/penalaran_uas/logs/cleaning.log\"\n",
        "\n",
        "MIN_LENGTH = 1000                  # Minimal panjang karakter dianggap valid\n",
        "\n",
        "os.makedirs(RAW_TEXT_DIR, exist_ok=True)\n",
        "os.makedirs(os.path.dirname(LOG_PATH), exist_ok=True)\n",
        "\n",
        "log_lines = []\n",
        "\n",
        "# ----------------------------\n",
        "# FUNGSI PEMBERSIHAN TEKS\n",
        "# ----------------------------\n",
        "\n",
        "def clean_text(text: str) -> str:\n",
        "    # Hapus header/footer khas putusan\n",
        "    text = re.sub(r'(\\n)+.*(MAHKAMAH|KEHAKIMAN|KEPADA).*?(\\n)+', '\\n', text, flags=re.IGNORECASE)\n",
        "    text = re.sub(r'Halaman\\s+\\d+\\s+dari\\s+\\d+', '', text, flags=re.IGNORECASE)\n",
        "\n",
        "    # Normalisasi karakter\n",
        "    text = text.lower()\n",
        "    text = re.sub(r'\\s+', ' ', text)\n",
        "    text = re.sub(r'[^\\w\\s.,]', '', text)  # keep . , untuk kalimat\n",
        "\n",
        "    return text.strip()\n",
        "\n",
        "# ----------------------------\n",
        "# PROSES UTAMA\n",
        "# ----------------------------\n",
        "\n",
        "case_num = 1\n",
        "\n",
        "for file in sorted(os.listdir(PDF_DIR)):\n",
        "    if file.endswith(\".pdf\"):\n",
        "        try:\n",
        "            pdf_path = os.path.join(PDF_DIR, file)\n",
        "            print(f\"\ud83d\udd04 Memproses: {file}\")\n",
        "            raw_text = extract_text(pdf_path)\n",
        "            cleaned = clean_text(raw_text)\n",
        "\n",
        "            # Validasi isi\n",
        "            if len(cleaned) >= MIN_LENGTH:\n",
        "                fname = f\"case_{case_num:03}.txt\"\n",
        "                with open(os.path.join(RAW_TEXT_DIR, fname), \"w\", encoding=\"utf-8\") as f:\n",
        "                    f.write(cleaned)\n",
        "                log_lines.append(f\"{fname}: OK ({len(cleaned)} chars)\")\n",
        "                case_num += 1\n",
        "            else:\n",
        "                log_lines.append(f\"{file}: GAGAL (terlalu pendek)\")\n",
        "\n",
        "        except Exception as e:\n",
        "            log_lines.append(f\"{file}: ERROR - {str(e)}\")\n",
        "\n",
        "# ----------------------------\n",
        "# TULIS LOG (Opsional)\n",
        "# ----------------------------\n",
        "\n",
        "with open(LOG_PATH, \"w\", encoding=\"utf-8\") as logf:\n",
        "    for line in log_lines:\n",
        "        logf.write(line + \"\\n\")\n",
        "\n",
        "print(f\"\\n\u2705 Selesai. {case_num-1} file berhasil disimpan di /data/raw/\")\n",
        "print(f\"\ud83d\udcdd Log tersimpan di: {LOG_PATH}\")\n"
      ]
    },
    {
      "cell_type": "markdown",
      "source": [
        "# TAHAP 2"
      ],
      "metadata": {
        "id": "N11AsglAt02D"
      }
    },
    {
      "cell_type": "code",
      "source": [
        "import os\n",
        "import re\n",
        "import pandas as pd\n",
        "from pathlib import Path\n",
        "\n",
        "# -----------------------------\n",
        "# KONFIGURASI PATH GOOGLE DRIVE\n",
        "# -----------------------------\n",
        "RAW_DIR = \"/content/drive/MyDrive/penalaran_uas/data/raw\"       # hasil cleaning case_001.txt dst\n",
        "PROCESSED_PATH = \"/content/drive/MyDrive//penalaran_uas/data/processed/cases.csv\"\n",
        "\n",
        "# Buat folder output jika belum ada\n",
        "Path(os.path.dirname(PROCESSED_PATH)).mkdir(parents=True, exist_ok=True)\n",
        "\n",
        "# -----------------------------\n",
        "# GENERATE METADATA MANUAL (jika belum ada)\n",
        "# -----------------------------\n",
        "file_list = sorted([f for f in os.listdir(RAW_DIR) if f.endswith('.txt')])\n",
        "metadata = []\n",
        "\n",
        "for i, fname in enumerate(file_list):\n",
        "    metadata.append({\n",
        "        \"case_id\": i + 1,\n",
        "        \"no_perkara\": f\"{100+i}/Pdt.G/2023/PN.JKT\",\n",
        "        \"tanggal\": f\"2023-01-{(i+10):02}\",\n",
        "        \"pasal\": \"124 KUHPer\",\n",
        "        \"pihak\": f\"A{i+1} vs. B{i+1}\"\n",
        "    })\n",
        "\n",
        "# -----------------------------\n",
        "# MUAT DAN RANGKAI DATA\n",
        "# -----------------------------\n",
        "data_rows = []\n",
        "\n",
        "for meta in metadata:\n",
        "    fname = f\"case_{meta['case_id']:03}.txt\"\n",
        "    file_path = os.path.join(RAW_DIR, fname)\n",
        "    try:\n",
        "        with open(file_path, \"r\", encoding=\"utf-8\") as f:\n",
        "            content = f.read()\n",
        "\n",
        "        # Ambil ringkasan (2 kalimat pertama)\n",
        "        ringkasan = \". \".join(content.split('.')[:2]) + \".\"\n",
        "\n",
        "        row = {\n",
        "            **meta,\n",
        "            \"ringkasan_fakta\": ringkasan,\n",
        "            \"text_full\": content\n",
        "        }\n",
        "\n",
        "        data_rows.append(row)\n",
        "\n",
        "    except Exception as e:\n",
        "        print(f\"\u274c Gagal membuka {fname}: {e}\")\n",
        "\n",
        "df = pd.DataFrame(data_rows)\n",
        "\n",
        "# -----------------------------\n",
        "# FEATURE ENGINEERING\n",
        "# -----------------------------\n",
        "\n",
        "# 1. Hitung jumlah kata\n",
        "df['text_length'] = df['text_full'].apply(lambda x: len(x.split()))\n",
        "\n",
        "# 2. Tambahkan keyword penting sebagai fitur boolean (bag-of-words sederhana)\n",
        "keywords = [\"pencurian\", \"terdakwa\", \"barang bukti\", \"pidana\", \"pasal\"]\n",
        "for kw in keywords:\n",
        "    col_name = f\"kw_{kw.replace(' ', '_')}\"\n",
        "    df[col_name] = df['text_full'].str.contains(kw, case=False).astype(int)\n",
        "\n",
        "# -----------------------------\n",
        "# SIMPAN KE CSV\n",
        "# -----------------------------\n",
        "df.to_csv(PROCESSED_PATH, index=False)\n",
        "print(f\"\u2705 File tersimpan di: {PROCESSED_PATH}\")\n"
      ],
      "metadata": {
        "colab": {
          "base_uri": "https://localhost:8080/"
        },
        "id": "jtx3HuixwPpR",
        "executionInfo": {
          "status": "ok",
          "timestamp": 1750966910321,
          "user_tz": -420,
          "elapsed": 189,
          "user": {
            "displayName": "Bastian Feraries Wijaya",
            "userId": "16724100675661699270"
          }
        },
        "outputId": "2e5e75fb-78f0-48ff-993a-375204fe932d"
      },
      "execution_count": null,
      "outputs": [
        {
          "output_type": "stream",
          "name": "stdout",
          "text": [
            "\u2705 File tersimpan di: /content/drive/MyDrive//penalaran_uas/data/processed/cases_2.csv\n"
          ]
        }
      ]
    },
    {
      "cell_type": "markdown",
      "source": [
        "# TAHAP 3"
      ],
      "metadata": {
        "id": "0PmGv0ds0RRK"
      }
    },
    {
      "cell_type": "markdown",
      "source": [
        "pembuatan query"
      ],
      "metadata": {
        "id": "Db0H0ZveJnij"
      }
    },
    {
      "cell_type": "code",
      "source": [
        "import pandas as pd\n",
        "import json\n",
        "import os\n",
        "\n",
        "# 1. Load dataset baru\n",
        "data_path = \"/content/drive/MyDrive/penalaran_uas/data/processed/cases.csv\"\n",
        "df = pd.read_csv(data_path)\n",
        "\n",
        "# 2. Ambil contoh 10 query secara acak (atau ganti jumlah sesuai kebutuhan)\n",
        "sample_df = df[['case_id', 'catatan_amar']].dropna().sample(n=10, random_state=42)\n",
        "\n",
        "# 3. Bentuk list query dict\n",
        "queries = []\n",
        "for _, row in sample_df.iterrows():\n",
        "    queries.append({\n",
        "        \"query\": row['catatan_amar'],\n",
        "        \"case_id\": int(row['case_id'])\n",
        "    })\n",
        "\n",
        "# 4. Simpan ke file queries.json\n",
        "eval_dir = \"/content/drive/MyDrive/penalaran_uas/data/eval\"\n",
        "os.makedirs(eval_dir, exist_ok=True)\n",
        "\n",
        "query_file = os.path.join(eval_dir, \"queries.json\")\n",
        "with open(query_file, \"w\", encoding=\"utf-8\") as f:\n",
        "    json.dump(queries, f, indent=2, ensure_ascii=False)\n",
        "\n",
        "print(f\"\u2705 File queries.json berhasil dibuat di: {query_file}\")\n"
      ],
      "metadata": {
        "colab": {
          "base_uri": "https://localhost:8080/"
        },
        "id": "trEMnvj6Alax",
        "executionInfo": {
          "status": "ok",
          "timestamp": 1751013414391,
          "user_tz": -420,
          "elapsed": 949,
          "user": {
            "displayName": "Bastian Feraries Wijaya",
            "userId": "16724100675661699270"
          }
        },
        "outputId": "47807f44-afe2-4c69-d88d-7e718cd7d288"
      },
      "execution_count": 9,
      "outputs": [
        {
          "output_type": "stream",
          "name": "stdout",
          "text": [
            "\u2705 File queries.json berhasil dibuat di: /content/drive/MyDrive/penalaran_uas/data/eval/queries.json\n"
          ]
        }
      ]
    },
    {
      "cell_type": "code",
      "source": [
        "\n",
        "import os\n",
        "import json\n",
        "import numpy as np\n",
        "import pandas as pd\n",
        "from sklearn.metrics.pairwise import cosine_similarity\n",
        "from transformers import AutoTokenizer, AutoModel\n",
        "import torch\n"
      ],
      "metadata": {
        "id": "Nfny9oYJL6zE",
        "executionInfo": {
          "status": "ok",
          "timestamp": 1751013423125,
          "user_tz": -420,
          "elapsed": 6111,
          "user": {
            "displayName": "Bastian Feraries Wijaya",
            "userId": "16724100675661699270"
          }
        }
      },
      "execution_count": 10,
      "outputs": []
    },
    {
      "cell_type": "code",
      "source": [
        "# Muat data kasus\n",
        "data_path = \"/content/drive/MyDrive/penalaran_uas/data/processed/cases.csv\"\n",
        "df = pd.read_csv(data_path)\n",
        "case_ids = df['case_id'].tolist()\n",
        "texts = df['catatan_amar'].astype(str).tolist()\n"
      ],
      "metadata": {
        "id": "oVconFrNLxft",
        "executionInfo": {
          "status": "ok",
          "timestamp": 1751013426245,
          "user_tz": -420,
          "elapsed": 2,
          "user": {
            "displayName": "Bastian Feraries Wijaya",
            "userId": "16724100675661699270"
          }
        }
      },
      "execution_count": 11,
      "outputs": []
    },
    {
      "cell_type": "code",
      "source": [
        "# Load IndoBERT\n",
        "tokenizer = AutoTokenizer.from_pretrained(\"indobenchmark/indobert-base-p2\")\n",
        "model = AutoModel.from_pretrained(\"indobenchmark/indobert-base-p2\")\n",
        "model.eval()\n",
        "\n",
        "# Fungsi ambil embedding dari token [CLS]\n",
        "def get_bert_embedding(text):\n",
        "    inputs = tokenizer(text, return_tensors='pt', truncation=True, padding='max_length', max_length=256)\n",
        "    with torch.no_grad():\n",
        "        outputs = model(**inputs)\n",
        "    return outputs.last_hidden_state[:, 0, :].squeeze().numpy()  # CLS token\n"
      ],
      "metadata": {
        "id": "Q3fsniRdL-t_",
        "executionInfo": {
          "status": "ok",
          "timestamp": 1751013445080,
          "user_tz": -420,
          "elapsed": 17484,
          "user": {
            "displayName": "Bastian Feraries Wijaya",
            "userId": "16724100675661699270"
          }
        },
        "colab": {
          "base_uri": "https://localhost:8080/",
          "height": 301,
          "referenced_widgets": [
            "ab1add53934b4e62a327d8c439dea336",
            "37eeb099b1084b888f096d935bec1001",
            "984de5439b4f4c3bb4fd9d3b947a6417",
            "5b36fb070ccb438d9b4fc6bf3791059b",
            "13855d027c0c41fd80f21b89d78d470a",
            "3521b781122245d49d9d63fdc36a9eda",
            "b52881d8c0e54c6e9abec76056ed61cc",
            "2a5dddd816264d8489a4be1796830a1d",
            "aa97d2d5c3104f35957d17553e40cc45",
            "64ce044472e941bcb7fb01b6ae777588",
            "0f051c9044d24cd6bfa6507fd8440281",
            "4705c668e51543548871405126b59715",
            "c104bbc8111e43de85ca06b4df6d91d2",
            "74804c76abd44d19aba26324cb80084d",
            "2d117cd0f2264c3490b41fe8d6f8c208",
            "a1079ac1118f4e3b8598bd0bcb1f3984",
            "196912a5d5d54bdf94e289f34c4abdea",
            "4ff2451ab9c341ebafe3844a8ddacb4e",
            "aa21d2aea1c74177b2dc5483112d39f0",
            "12d2d586541a442f926c3a0cd2d5e1fe",
            "220d27651f1f4ceda96ffd70b4eeace4",
            "d921951641774ddfa0a3c564fc6590da",
            "5df5f47366b045719da555df14dcd32f",
            "16162df5900d436d81ded0cb984fc9e2",
            "08987f8e9f184204b2dc9b98c33b631e",
            "70eac51678fe4d25adfebb5d89de203f",
            "d5bc83817e3947709d79afbef3d72068",
            "af1a9c61d1e2470daf1f2dee3581c636",
            "feee49c4b7c14f65817c9ab3d5aeff69",
            "61da1346f4a541629b5d7e8e321c0b35",
            "61871b0fcda243b5afd72a1a2b03e6aa",
            "773249d605e5466e86afe3f23aadffba",
            "2b30b624613142adb23ac678c071edfd",
            "0505c93258034ffab19a7b7a5e8ee2f1",
            "41140eb036414a1b898f8cd2319483ae",
            "d3cd55be1efa4e1c87b0698f12dfcb79",
            "489869bce9ed4b43be13ff6422763416",
            "bd4d61c7c0f8482c8ac78fb024d9cc45",
            "a33d6a1a2f0b4f53abf3120b42c0194f",
            "35f6767690b14b5c8613ee2da53eec91",
            "715a930d6fd544b481fc2534379cf403",
            "32da3754302a42a8ab192f7f8967fc56",
            "152d5d49cd2c405fa5ade7b02d9b410e",
            "8952987b313d4709a669395dc3f6cbea",
            "e7029082ff104b12af7ea3954e3b201e",
            "ecdb069397f14bb79dbb730cc6a58fbc",
            "26ba5454f1b4442db159409fed4bda95",
            "8c19a86f75ea4558863fc77ef42695b1",
            "325e10721bb44bfb868f4c4e99863f4e",
            "ff38efc9c04143789d5c96eef391e36f",
            "0542c578e2cf47e4a8fb33f448e85609",
            "9e1730fd6c944036b20a2c669eb3d0ba",
            "04cd3dfe41104d749823dd31d98f4e81",
            "e4ae3862a4e84486b34e65dd3b4ada96",
            "61a702c7daa34567b5a1e53ae917a3e1"
          ]
        },
        "outputId": "bcd305d5-2c8c-4747-f86b-aecde2b96da2"
      },
      "execution_count": 12,
      "outputs": [
        {
          "output_type": "stream",
          "name": "stderr",
          "text": [
            "/usr/local/lib/python3.11/dist-packages/huggingface_hub/utils/_auth.py:94: UserWarning: \n",
            "The secret `HF_TOKEN` does not exist in your Colab secrets.\n",
            "To authenticate with the Hugging Face Hub, create a token in your settings tab (https://huggingface.co/settings/tokens), set it as secret in your Google Colab and restart your session.\n",
            "You will be able to reuse this secret in all of your notebooks.\n",
            "Please note that authentication is recommended but still optional to access public models or datasets.\n",
            "  warnings.warn(\n"
          ]
        },
        {
          "output_type": "display_data",
          "data": {
            "text/plain": [
              "tokenizer_config.json:   0%|          | 0.00/2.00 [00:00<?, ?B/s]"
            ],
            "application/vnd.jupyter.widget-view+json": {
              "version_major": 2,
              "version_minor": 0,
              "model_id": "ab1add53934b4e62a327d8c439dea336"
            }
          },
          "metadata": {}
        },
        {
          "output_type": "display_data",
          "data": {
            "text/plain": [
              "config.json: 0.00B [00:00, ?B/s]"
            ],
            "application/vnd.jupyter.widget-view+json": {
              "version_major": 2,
              "version_minor": 0,
              "model_id": "4705c668e51543548871405126b59715"
            }
          },
          "metadata": {}
        },
        {
          "output_type": "display_data",
          "data": {
            "text/plain": [
              "vocab.txt: 0.00B [00:00, ?B/s]"
            ],
            "application/vnd.jupyter.widget-view+json": {
              "version_major": 2,
              "version_minor": 0,
              "model_id": "5df5f47366b045719da555df14dcd32f"
            }
          },
          "metadata": {}
        },
        {
          "output_type": "display_data",
          "data": {
            "text/plain": [
              "special_tokens_map.json:   0%|          | 0.00/112 [00:00<?, ?B/s]"
            ],
            "application/vnd.jupyter.widget-view+json": {
              "version_major": 2,
              "version_minor": 0,
              "model_id": "0505c93258034ffab19a7b7a5e8ee2f1"
            }
          },
          "metadata": {}
        },
        {
          "output_type": "display_data",
          "data": {
            "text/plain": [
              "pytorch_model.bin:   0%|          | 0.00/498M [00:00<?, ?B/s]"
            ],
            "application/vnd.jupyter.widget-view+json": {
              "version_major": 2,
              "version_minor": 0,
              "model_id": "e7029082ff104b12af7ea3954e3b201e"
            }
          },
          "metadata": {}
        }
      ]
    },
    {
      "cell_type": "code",
      "source": [
        "print(\"\ud83d\udd04 Membuat representasi vektor BERT untuk semua kasus...\")\n",
        "case_embeddings = np.array([get_bert_embedding(text) for text in texts])\n"
      ],
      "metadata": {
        "colab": {
          "base_uri": "https://localhost:8080/",
          "height": 34
        },
        "id": "REbca8cxMBjl",
        "executionInfo": {
          "status": "ok",
          "timestamp": 1751013472762,
          "user_tz": -420,
          "elapsed": 26399,
          "user": {
            "displayName": "Bastian Feraries Wijaya",
            "userId": "16724100675661699270"
          }
        },
        "outputId": "6895b61f-87a0-4aea-a0f9-8830c6b16783"
      },
      "execution_count": 13,
      "outputs": [
        {
          "output_type": "stream",
          "name": "stdout",
          "text": [
            "\ud83d\udd04 Membuat representasi vektor BERT untuk semua kasus...\n"
          ]
        }
      ]
    },
    {
      "cell_type": "code",
      "source": [
        "from typing import List, Tuple\n",
        "\n",
        "def retrieve(query: str, k: int = 5) -> List[Tuple[int, float]]:\n",
        "    # 1. Hitung vektor query\n",
        "    query_vec = get_bert_embedding(query)\n",
        "\n",
        "    # 2. Hitung cosine similarity\n",
        "    sims = cosine_similarity([query_vec], case_embeddings)[0]\n",
        "\n",
        "    # 3. Ambil top-k\n",
        "    top_k_idx = sims.argsort()[::-1][:k]\n",
        "    return [(case_ids[i], sims[i]) for i in top_k_idx]\n"
      ],
      "metadata": {
        "id": "WNu_fLiIMMun",
        "executionInfo": {
          "status": "ok",
          "timestamp": 1751013476187,
          "user_tz": -420,
          "elapsed": 41,
          "user": {
            "displayName": "Bastian Feraries Wijaya",
            "userId": "16724100675661699270"
          }
        }
      },
      "execution_count": 14,
      "outputs": []
    },
    {
      "cell_type": "code",
      "source": [
        "[\n",
        "  {\n",
        "    \"query\": \"terdakwa melakukan pencurian dengan pemberatan\",\n",
        "    \"case_id\": 3\n",
        "  },\n",
        "  {\n",
        "    \"query\": \"terdakwa mencuri barang elektronik dari rumah kosong\",\n",
        "    \"case_id\": 7\n",
        "  }\n",
        "]\n"
      ],
      "metadata": {
        "colab": {
          "base_uri": "https://localhost:8080/"
        },
        "id": "1LBShvNsMPvW",
        "executionInfo": {
          "status": "ok",
          "timestamp": 1751013478197,
          "user_tz": -420,
          "elapsed": 15,
          "user": {
            "displayName": "Bastian Feraries Wijaya",
            "userId": "16724100675661699270"
          }
        },
        "outputId": "b0d95700-1470-4a9a-e638-dfd59b9094c5"
      },
      "execution_count": 15,
      "outputs": [
        {
          "output_type": "execute_result",
          "data": {
            "text/plain": [
              "[{'query': 'terdakwa melakukan pencurian dengan pemberatan', 'case_id': 3},\n",
              " {'query': 'terdakwa mencuri barang elektronik dari rumah kosong',\n",
              "  'case_id': 7}]"
            ]
          },
          "metadata": {},
          "execution_count": 15
        }
      ]
    },
    {
      "cell_type": "code",
      "source": [
        "with open(\"/content/drive/MyDrive/penalaran_uas/data/eval/queries.json\", \"r\") as f:\n",
        "    queries = json.load(f)\n",
        "\n",
        "correct = 0\n",
        "for q in queries:\n",
        "    top_k = retrieve(q['query'], k=5)\n",
        "    top_ids = [cid for cid, _ in top_k]\n",
        "    print(f\"\\nQuery: {q['query']}\")\n",
        "    print(f\"Top-5 retrieved: {top_ids}\")\n",
        "    print(f\"Ground truth: {q['case_id']} - {'\u2714\ufe0f' if q['case_id'] in top_ids else '\u274c'}\")\n",
        "    if q['case_id'] in top_ids:\n",
        "        correct += 1\n",
        "\n",
        "accuracy = correct / len(queries)\n",
        "print(f\"\\n\ud83c\udfaf Top-5 Accuracy: {accuracy * 100:.2f}%\")\n"
      ],
      "metadata": {
        "colab": {
          "base_uri": "https://localhost:8080/"
        },
        "id": "1BibjgkhMTje",
        "executionInfo": {
          "status": "ok",
          "timestamp": 1751013486877,
          "user_tz": -420,
          "elapsed": 6204,
          "user": {
            "displayName": "Bastian Feraries Wijaya",
            "userId": "16724100675661699270"
          }
        },
        "outputId": "590fc161-7484-48cb-8df3-fbcd10170080"
      },
      "execution_count": 16,
      "outputs": [
        {
          "output_type": "stream",
          "name": "stdout",
          "text": [
            "\n",
            "Query: menyatakan terdakwa misrandi radjak als rehan bin buyung radjaak alm terbukti secara sah dan meyakinkan bersalah melakukan tindak pidana pencurian beberapa kali sebagaimana diatur dalam dakwaan tunggal menjatuhkan pidana kepada terdakwa oleh karena itu dengan pidana penjara selama 2 dua tahun 6 enam bulan menetapkan masa penangkapan dan penahanan yang telah dijalani terdakwa dikurangkan seluruhnya dari pidana yang dijatuhkan menetapkan terdakwa tetap dalam tahanan menetapkan barang bukti berupa 1 satu unit sepeda motor merk yamaha mio gear 125 s version nopol kt3642bbb warna biru tahun 2024 noka mh3seg720rj102520 nosin e32xe0152436 dikembalikan kepada saksi muhammad surya ramadhani 1 satu lembar hoodie berwarna bitu bertuliskan reebok dirampas untuk dimusnahkan 1 satu buah bpkb sepeda motor merk honda vario nopol kt2418bbw warna merah putih tahun 2016 dengan nomor rangka mh1kf1111gk682657 nomor mesin kf11e1682733 atas nama supardi 1 satu buah stnk sepeda motor merk honda vario nopol kt2418bbw warna merah putih tahun 2016 dengan nomor rangka mh1kf1111gk682657 nomor mesin kf11e1682733 atas nama supardi 1 satu unit sepeda motor merk honda vario nopol kt2418bbw warna merah putih dipergunakan dalam perkara lain atas nama terdakwa muhammad ali lubis membebankan kepada terdakwa membayar biaya perkara sejumlah rp 500000 lima ribu rupiah\n",
            "Top-5 retrieved: [26, 30, 25, 29, 22]\n",
            "Ground truth: 26 - \u2714\ufe0f\n",
            "\n",
            "Query: menyatakan terdakwa muamar qadafi bin syamsuddin halmtersebut diatas terbukti secara sah dan meyakinkan bersalah melakukan tindak pidana pencurian dalam keadaan memberatkan sebagaimana dalam dakwaan tunggal  menjatuhkan pidana kepada terdakwa oleh karena itu dengan pidana penjara selama 1 satu dan 6 enam bulan  menetapkan masa penangkapan dan penahanan yang telah dijalani terdakwa dikurangkan seluruhnya dari pidana yang dijatuhkan menetapkan terdakwa tetap ditahan  menetapkan barang bukti berupa  1 satu unit cpu intel ceon e3 warna hitam pentium ram 16 gb dengan nomor seri vga 2 gb ddr 3 1 satu unit layar komputer 19 inchi warna hitam merk lg 1 satu unit speaker warna hitam merk dat dengan nomor seri dt1509x2   dikembalikan kepada sma muhammadiyah 2 samarinda melalui saksi andi bin zainudin membebankan kepada terdakwa membayar biaya perkara sejumlah rp500000 lima ribu rupiah\n",
            "Top-5 retrieved: [14, 8, 35, 41, 20]\n",
            "Ground truth: 14 - \u2714\ufe0f\n",
            "\n",
            "Query: menyatakan terdakwa hairil wafa bin asra telah terbukti secara sah dan meyakinkan bersalah melakukan tindak pidana pencurian dalam keadaan memberatkan sebagaimana dalam dakwaan tunggal menjatuhkan pidana kepada terdakwa oleh karena itu dengan pidana penjara selama 2 dua tahun 6 enam bulan menetapkan masa penangkapan dan penahanan yang telah dijalani terdakwa dikurangkan seluruhnya dari pidana yang dijatuhkan menetapkan terdakwa tetap ditahan menyatakan barang bukti berupa   1 satu buah dompat warna merah 2 dua buah gelang berwarna emas    dikembalikan kepada saksi korban avifah rindayanti binti tiannur       1 satu lembar hoodie berwarna abuabu hitam dimusnahkan 6 membebankan kepada terdakwa membayar biaya perkara sejumlah rp500000 lima ribu rupiah\n",
            "Top-5 retrieved: [9, 21, 37, 6, 10]\n",
            "Ground truth: 9 - \u2714\ufe0f\n",
            "\n",
            "Query: menyatakan terdakwayusriansyah bin arifin alias muhammad yusuf bin muhammad rumtersebut diatastelah terbukti secara sah dan meyakinkan bersalah melakukan tindak pidana pencurian dalam keadaan memberatkan terus menerus sebagai perbuatan yang dilanjutkan sebagaimana dalam dakwaan tunggal menjatuhkan pidana kepada terdakwa oleh karena itudengan pidana penjara selama2 dua tahun dan 6 enam bulan menetapkan masa penangkapan dan penahanan yang telah dijalani terdakwa dikurangkan seluruhnya dari pidana yang dijatuhkan menetapkan terdakwa tetap ditahan menetapkan barang bukti berupa 1 satu kotak amal 1 satu buah obeng 2 dua buah tang dimusnahkan 1 satu bilahpisau cutter uang sejumlahrp39000000tiga ratus sembilan puluh ribu rupiah dikembalikan kepada pengurus masjid nurul iman di jalan hasan basrikota samarindamembebankan kepada terdakwa membayar biaya perkara sejumlah rp500000 lima ribu rupiah\n",
            "Top-5 retrieved: [27, 14, 38, 7, 11]\n",
            "Ground truth: 27 - \u2714\ufe0f\n",
            "\n",
            "Query: menyatakan terdakwa bayu kiemas rastra sukrisna alias bayu bin hadiz soesaldy terbukti secara sah dan meyakinkan bersalah melakukan tindak pidana pencurian dalam keadaan memberatkan sebagaimana dalam dakwaan tunggal menjatuhkan pidana kepada terdakwa oleh karena itu dengan pidana penjara selama 7 tujuh bulan  menetapkan masa penangkapan dan penahanan yang telah dijalani terdakwa dikurangkan seluruhnya dari pidana yang dijatuhkan menetapkan terdakwa tetap ditahan menetapkan barang bukti berupa 1 satu buah tameng depan mio soul gt 1 satu buah speedometer mio soul gt 1 satu buah behel mio soul gt 1 satu buah spakbor belakang mio soul gt 1 satu buah jok serta bagasi mio soul gt 1 satu buah injakan kasar mio soul gt 1 satu buah plat kendaraan mio soul gt kt 3950 oj 1 satu buah bpkb buku pemilik kendaraan bermotor an abdul hamid dengan no k 01640411 seluruhnya dikembalikan kepada saksi muhammad rizqan 2 dua buah tang 3 tiga kunci ring pas 1 satu buah obeng min 1 satu buah kunci t seluruhnya dirampas untuk dimusnahkan6 membebankan kepada terdakwa untuk membayar biaya perkara sejumlah rp500000 lima ribu rupiah\n",
            "Top-5 retrieved: [5, 40, 12, 8, 28]\n",
            "Ground truth: 5 - \u2714\ufe0f\n",
            "\n",
            "Query: menyatakan terdakwa iwan seftiadi bin mansur terbukti secara sah dan meyakinkan bersalah melakukan tindak pidana penggelapan sebagaimana dalam dakwaan tunggal menjatuhkan pidana kepada terdakwa tersebut oleh karena itu dengan pidana penjara selama 2 dua tahun menetapkan masa penangkapan dan penahanan yang telah dijalani terdakwa dikurangkan seluruhnya dari pidana yang dijatuhkan menetapkan terdakwa tetap ditahan menetapkan barang bukti berupa   1 satu unit sepeda motor honda vario warna hitam nomor rangka  mh1kf4111jk056468 nomor mesin  kf41e1057149 1 satu bpkb sepeda motor dengan nomor n09944449 an linda sari 1 satu stnk sepeda motor honda vario warna hitam nomor rangka  mh1kf4111jk056468 nomor mesin  kf41e1057149 1 satu unit kunci sepeda motor honda vario 1 satu buah tas warna hijau 1 satu buah jam tangan merk sapphire 1 satu unit hp merk infinix 1 satu unit hp merk samsung a05 uang sebanyak rp 240000 dua ratus empat puluh ribu rupiah   dikembalikan kepada saksi marwoto bin giman alm6 membebankan kepada terdakwa untuk membayar biaya perkara sejumlah rp500000 lima ribu rupiah\n",
            "Top-5 retrieved: [40, 28, 12, 29, 5]\n",
            "Ground truth: 40 - \u2714\ufe0f\n",
            "\n",
            "Query: menyatakan terdakwa sonydol bin mastur alm tersebut di atas terbukti secara sah dan meyakinkan bersalah melakukan tindak pidana pencurian dalam keadaan yang memberatkan sebagaimana dalam dakwaan tunggal menjatuhkan pidana kepada terdakwa oleh karena itu dengan pidana penjara selama 1 satu tahun 6 enam bulan menetapkan masa penangkapan dan penahanan yang telah dijalani terdakwa dikurangkan seluruhnya dari pidana yang dijatuhkan menetapkan terdakwa tetap dalam tahanan menetapkan barang bukti berupa  1 satu unit sepeda motor merk honda supra nf 125 td tanpa nomor polisi tanpa plat warna hitam silver tahun pembuatan 2007 nomor rangka  mh1jb81177k057356 dan nomor mesin  jb81e1058427 an sudarsi   dikembalikan kepada saksi eko budianto bin sudarsi alm 1 satu buah kunci kontak sepeda motor dirampas untuk dimusnahkan membebankan kepada terdakwa membayar biaya perkara sejumlah rp 500000 lima ribu rupiah\n",
            "Top-5 retrieved: [20, 8, 31, 33, 14]\n",
            "Ground truth: 20 - \u2714\ufe0f\n",
            "\n",
            "Query: menyatakan terdakwa wahyu suxma segara als wahyu bin juki tersebut di atas terbukti secara sah dan meyakinkan bersalah melakukan tindak pidana pencurian dalam keadaan memberatkan  menjatuhkan pidana kepada terdakwa oleh karena itu dengan pidana penjara selama 3 tiga tahun menetapkan masa penangkapan dan penahanan yang telah dijalani terdakwa dikurangkan seluruhnya dari pidana yang dijatuhkan menetapkan terdakwa tetap dalam tahanan menyatakan barang bukti berupa   1 satu buah laptop merk acer warna hitam beserta charger 1 satu buah tas ransel merk clowny 1 satu unit mobil daihatsu merk grand max warna silver kt 1681 ii dengan nomor rangka mhkv3ba3jrk065638 dan nomor mesin k3mj53488   dikembalikan kepada saksi nur wahyuni als yuni binti abdul gafar 1 satu lembar jaket merk hsco 1 satu buah helm merk gm warna hitam  dirampas untuk dimusnahkan 1 satu unit sepeda motor merk yamaha mio soul warna merah hitam kt 6888 mi norangka mh314d205ck392663 nomesin 14d1392718 noregister 1017586 1 satu lembar stnk sepeda motor merk yamaha mio soul warna merah marron kt6888 mi norangka mh314d205ck392663 nomesin 14d1392718 noregister 1017586  dirampas untuk negara 1 satu buah flasdish rekaman cctv  dilampirkan dalam berkas perkara6 membebankan kepada terdakwa membayar biaya perkara sejumlah rp 500000 lima ribu rupiah\n",
            "Top-5 retrieved: [30, 26, 19, 24, 15]\n",
            "Ground truth: 30 - \u2714\ufe0f\n",
            "\n",
            "Query: menyatakan terdakwa muhammad ferdi irawan als ferdi bin sabransyah tersebut di atas terbukti secara sah dan meyakinkan bersalah melakukan tindak pidana pencurian dalam keadaan yang memberatkan sebagaimana dalam dakwaan tunggal menjatuhkan pidana kepada terdakwa oleh karena itu dengan pidana penjara selama 2 dua tahun menetapkan masa penangkapan dan penahanan yang telah dijalani terdakwa dikurangkan seluruhnya dari pidana yang dijatuhkan menetapkan terdakwa tetap dalam tahanan menetapkan barang bukti berupa 1 satu buah sepeda motor merk yamaha mio soul warna merah hitam kt6888 mi norangka mh314d205ck392663 nomesin 14d1392718 noregister 1017586 dipergunakan dalam perkara wahyu suxma segara als wahyu bin juki   6 membebankan kepada terdakwa membayar biaya perkara sejumlah rp 500000 lima ribu rupiah\n",
            "Top-5 retrieved: [31, 20, 16, 8, 38]\n",
            "Ground truth: 31 - \u2714\ufe0f\n",
            "\n",
            "Query: menyatakan terdakwa putri arisa hadriani als riris binti hadri terbukti secara sah dan meyakinkan bersalah melakukan tindak pidana pencurian sebagaimana dalam dakwaan tunggal menjatuhkan pidana kepada terdakwa oleh karena itu dengan pidana penjara selama 6 enam bulan  menetapkan masa penangkapan dan penahanan yang telah dijalani terdakwa dikurangkan seluruhnya dari pidana yang dijatuhkan menetapkan terdakwa tetap ditahan menetapkan barang bukti berupa uang tunai sebesar rp5200000 lima puluh dua ribu rupiah 1 satu pasang antinganting emas 1 satu buah kalung emas 1 satu buah cincin emas dikembalikan kepada saksi agus priyono 1 satu lembar pakaian warna abuabu rokok tulisan supreme 1 satu lembar celana panjang warna creamdikembalikan kepada terdakwa putri arisa hadriani uang tunai sebesar rp1295000000 dua belas juta sembilan ratus lima puluh ribu rupiah dikembalikan kepada penuntut umum untuk dipergunakan sebagai barang bukti dalam perkara atas nama hendra bin h rustan6 membebankan kepada terdakwa untuk membayar biaya perkara sejumlah rp500000 lima ribu rupiah\n",
            "Top-5 retrieved: [7, 38, 41, 11, 8]\n",
            "Ground truth: 7 - \u2714\ufe0f\n",
            "\n",
            "\ud83c\udfaf Top-5 Accuracy: 100.00%\n"
          ]
        }
      ]
    },
    {
      "cell_type": "markdown",
      "source": [
        "#TAHAP 4"
      ],
      "metadata": {
        "id": "H3Mu5GzgN16i"
      }
    },
    {
      "cell_type": "code",
      "source": [
        "# Muat ulang data kasus\n",
        "cases_df = pd.read_csv(\"/content/drive/MyDrive/penalaran_uas/data/processed/cases.csv\")\n",
        "\n",
        "# Bangun dictionary case_id \u2192 solusi (misal kolom 'ringkasan_fakta' sebagai pengganti amar)\n",
        "case_solutions = dict(zip(cases_df['case_id'], cases_df['catatan_amar']))\n"
      ],
      "metadata": {
        "id": "loVFikOjOTdF",
        "executionInfo": {
          "status": "ok",
          "timestamp": 1751013494153,
          "user_tz": -420,
          "elapsed": 13,
          "user": {
            "displayName": "Bastian Feraries Wijaya",
            "userId": "16724100675661699270"
          }
        }
      },
      "execution_count": 17,
      "outputs": []
    },
    {
      "cell_type": "code",
      "source": [
        "from collections import Counter\n",
        "\n",
        "def predict_outcome(query: str, k: int = 5, weighted: bool = False) -> str:\n",
        "    top_k = retrieve(query, k=k)  # [(case_id, similarity)]\n",
        "    solutions = []\n",
        "\n",
        "    if weighted:\n",
        "        # Weighted vote\n",
        "        vote_weight = {}\n",
        "        for cid, sim in top_k:\n",
        "            sol = case_solutions.get(cid, \"unknown\")\n",
        "            vote_weight[sol] = vote_weight.get(sol, 0) + sim\n",
        "        predicted_solution = max(vote_weight.items(), key=lambda x: x[1])[0]\n",
        "    else:\n",
        "        # Majority vote\n",
        "        for cid, _ in top_k:\n",
        "            solutions.append(case_solutions.get(cid, \"unknown\"))\n",
        "        predicted_solution = Counter(solutions).most_common(1)[0][0]\n",
        "\n",
        "    return predicted_solution, [cid for cid, _ in top_k]\n"
      ],
      "metadata": {
        "id": "DlewJmsOOfGY",
        "executionInfo": {
          "status": "ok",
          "timestamp": 1751013496232,
          "user_tz": -420,
          "elapsed": 4,
          "user": {
            "displayName": "Bastian Feraries Wijaya",
            "userId": "16724100675661699270"
          }
        }
      },
      "execution_count": 18,
      "outputs": []
    },
    {
      "cell_type": "code",
      "source": [
        "# Muat query uji\n",
        "with open(\"/content/drive/MyDrive/penalaran_uas/data/eval/queries.json\", \"r\") as f:\n",
        "    test_queries = json.load(f)\n",
        "\n",
        "results = []\n",
        "\n",
        "print(\"\ud83d\udd0d Prediksi putusan dari query baru:\")\n",
        "for i, q in enumerate(test_queries):\n",
        "    query_text = q[\"query\"]\n",
        "    pred, top_ids = predict_outcome(query_text, k=5, weighted=True)\n",
        "\n",
        "    print(f\"\\nQuery #{i+1}: {query_text}\")\n",
        "    print(f\"Predicted Solution: {pred}\")\n",
        "    print(f\"Top-5 Cases: {top_ids}\")\n",
        "\n",
        "    results.append({\n",
        "        \"query_id\": i+1,\n",
        "        \"query\": query_text,\n",
        "        \"predicted_solution\": pred,\n",
        "        \"top_5_case_ids\": \";\".join(map(str, top_ids))\n",
        "    })\n"
      ],
      "metadata": {
        "colab": {
          "base_uri": "https://localhost:8080/"
        },
        "id": "dz1UwmxpOiY8",
        "executionInfo": {
          "status": "ok",
          "timestamp": 1751013507525,
          "user_tz": -420,
          "elapsed": 5914,
          "user": {
            "displayName": "Bastian Feraries Wijaya",
            "userId": "16724100675661699270"
          }
        },
        "outputId": "1a3ae094-527c-4387-cd47-a63f5f1dc488"
      },
      "execution_count": 19,
      "outputs": [
        {
          "output_type": "stream",
          "name": "stdout",
          "text": [
            "\ud83d\udd0d Prediksi putusan dari query baru:\n",
            "\n",
            "Query #1: menyatakan terdakwa misrandi radjak als rehan bin buyung radjaak alm terbukti secara sah dan meyakinkan bersalah melakukan tindak pidana pencurian beberapa kali sebagaimana diatur dalam dakwaan tunggal menjatuhkan pidana kepada terdakwa oleh karena itu dengan pidana penjara selama 2 dua tahun 6 enam bulan menetapkan masa penangkapan dan penahanan yang telah dijalani terdakwa dikurangkan seluruhnya dari pidana yang dijatuhkan menetapkan terdakwa tetap dalam tahanan menetapkan barang bukti berupa 1 satu unit sepeda motor merk yamaha mio gear 125 s version nopol kt3642bbb warna biru tahun 2024 noka mh3seg720rj102520 nosin e32xe0152436 dikembalikan kepada saksi muhammad surya ramadhani 1 satu lembar hoodie berwarna bitu bertuliskan reebok dirampas untuk dimusnahkan 1 satu buah bpkb sepeda motor merk honda vario nopol kt2418bbw warna merah putih tahun 2016 dengan nomor rangka mh1kf1111gk682657 nomor mesin kf11e1682733 atas nama supardi 1 satu buah stnk sepeda motor merk honda vario nopol kt2418bbw warna merah putih tahun 2016 dengan nomor rangka mh1kf1111gk682657 nomor mesin kf11e1682733 atas nama supardi 1 satu unit sepeda motor merk honda vario nopol kt2418bbw warna merah putih dipergunakan dalam perkara lain atas nama terdakwa muhammad ali lubis membebankan kepada terdakwa membayar biaya perkara sejumlah rp 500000 lima ribu rupiah\n",
            "Predicted Solution: menyatakan terdakwa misrandi radjak als rehan bin buyung radjaak alm terbukti secara sah dan meyakinkan bersalah melakukan tindak pidana pencurian beberapa kali sebagaimana diatur dalam dakwaan tunggal menjatuhkan pidana kepada terdakwa oleh karena itu dengan pidana penjara selama 2 dua tahun 6 enam bulan menetapkan masa penangkapan dan penahanan yang telah dijalani terdakwa dikurangkan seluruhnya dari pidana yang dijatuhkan menetapkan terdakwa tetap dalam tahanan menetapkan barang bukti berupa 1 satu unit sepeda motor merk yamaha mio gear 125 s version nopol kt3642bbb warna biru tahun 2024 noka mh3seg720rj102520 nosin e32xe0152436 dikembalikan kepada saksi muhammad surya ramadhani 1 satu lembar hoodie berwarna bitu bertuliskan reebok dirampas untuk dimusnahkan 1 satu buah bpkb sepeda motor merk honda vario nopol kt2418bbw warna merah putih tahun 2016 dengan nomor rangka mh1kf1111gk682657 nomor mesin kf11e1682733 atas nama supardi 1 satu buah stnk sepeda motor merk honda vario nopol kt2418bbw warna merah putih tahun 2016 dengan nomor rangka mh1kf1111gk682657 nomor mesin kf11e1682733 atas nama supardi 1 satu unit sepeda motor merk honda vario nopol kt2418bbw warna merah putih dipergunakan dalam perkara lain atas nama terdakwa muhammad ali lubis membebankan kepada terdakwa membayar biaya perkara sejumlah rp 500000 lima ribu rupiah\n",
            "Top-5 Cases: [26, 30, 25, 29, 22]\n",
            "\n",
            "Query #2: menyatakan terdakwa muamar qadafi bin syamsuddin halmtersebut diatas terbukti secara sah dan meyakinkan bersalah melakukan tindak pidana pencurian dalam keadaan memberatkan sebagaimana dalam dakwaan tunggal  menjatuhkan pidana kepada terdakwa oleh karena itu dengan pidana penjara selama 1 satu dan 6 enam bulan  menetapkan masa penangkapan dan penahanan yang telah dijalani terdakwa dikurangkan seluruhnya dari pidana yang dijatuhkan menetapkan terdakwa tetap ditahan  menetapkan barang bukti berupa  1 satu unit cpu intel ceon e3 warna hitam pentium ram 16 gb dengan nomor seri vga 2 gb ddr 3 1 satu unit layar komputer 19 inchi warna hitam merk lg 1 satu unit speaker warna hitam merk dat dengan nomor seri dt1509x2   dikembalikan kepada sma muhammadiyah 2 samarinda melalui saksi andi bin zainudin membebankan kepada terdakwa membayar biaya perkara sejumlah rp500000 lima ribu rupiah\n",
            "Predicted Solution: menyatakan terdakwa muamar qadafi bin syamsuddin halmtersebut diatas terbukti secara sah dan meyakinkan bersalah melakukan tindak pidana pencurian dalam keadaan memberatkan sebagaimana dalam dakwaan tunggal  menjatuhkan pidana kepada terdakwa oleh karena itu dengan pidana penjara selama 1 satu dan 6 enam bulan  menetapkan masa penangkapan dan penahanan yang telah dijalani terdakwa dikurangkan seluruhnya dari pidana yang dijatuhkan menetapkan terdakwa tetap ditahan  menetapkan barang bukti berupa  1 satu unit cpu intel ceon e3 warna hitam pentium ram 16 gb dengan nomor seri vga 2 gb ddr 3 1 satu unit layar komputer 19 inchi warna hitam merk lg 1 satu unit speaker warna hitam merk dat dengan nomor seri dt1509x2   dikembalikan kepada sma muhammadiyah 2 samarinda melalui saksi andi bin zainudin membebankan kepada terdakwa membayar biaya perkara sejumlah rp500000 lima ribu rupiah\n",
            "Top-5 Cases: [14, 8, 35, 41, 20]\n",
            "\n",
            "Query #3: menyatakan terdakwa hairil wafa bin asra telah terbukti secara sah dan meyakinkan bersalah melakukan tindak pidana pencurian dalam keadaan memberatkan sebagaimana dalam dakwaan tunggal menjatuhkan pidana kepada terdakwa oleh karena itu dengan pidana penjara selama 2 dua tahun 6 enam bulan menetapkan masa penangkapan dan penahanan yang telah dijalani terdakwa dikurangkan seluruhnya dari pidana yang dijatuhkan menetapkan terdakwa tetap ditahan menyatakan barang bukti berupa   1 satu buah dompat warna merah 2 dua buah gelang berwarna emas    dikembalikan kepada saksi korban avifah rindayanti binti tiannur       1 satu lembar hoodie berwarna abuabu hitam dimusnahkan 6 membebankan kepada terdakwa membayar biaya perkara sejumlah rp500000 lima ribu rupiah\n",
            "Predicted Solution: menyatakan terdakwa hairil wafa bin asra telah terbukti secara sah dan meyakinkan bersalah melakukan tindak pidana pencurian dalam keadaan memberatkan sebagaimana dalam dakwaan tunggal menjatuhkan pidana kepada terdakwa oleh karena itu dengan pidana penjara selama 2 dua tahun 6 enam bulan menetapkan masa penangkapan dan penahanan yang telah dijalani terdakwa dikurangkan seluruhnya dari pidana yang dijatuhkan menetapkan terdakwa tetap ditahan menyatakan barang bukti berupa   1 satu buah dompat warna merah 2 dua buah gelang berwarna emas    dikembalikan kepada saksi korban avifah rindayanti binti tiannur       1 satu lembar hoodie berwarna abuabu hitam dimusnahkan 6 membebankan kepada terdakwa membayar biaya perkara sejumlah rp500000 lima ribu rupiah\n",
            "Top-5 Cases: [9, 21, 37, 6, 10]\n",
            "\n",
            "Query #4: menyatakan terdakwayusriansyah bin arifin alias muhammad yusuf bin muhammad rumtersebut diatastelah terbukti secara sah dan meyakinkan bersalah melakukan tindak pidana pencurian dalam keadaan memberatkan terus menerus sebagai perbuatan yang dilanjutkan sebagaimana dalam dakwaan tunggal menjatuhkan pidana kepada terdakwa oleh karena itudengan pidana penjara selama2 dua tahun dan 6 enam bulan menetapkan masa penangkapan dan penahanan yang telah dijalani terdakwa dikurangkan seluruhnya dari pidana yang dijatuhkan menetapkan terdakwa tetap ditahan menetapkan barang bukti berupa 1 satu kotak amal 1 satu buah obeng 2 dua buah tang dimusnahkan 1 satu bilahpisau cutter uang sejumlahrp39000000tiga ratus sembilan puluh ribu rupiah dikembalikan kepada pengurus masjid nurul iman di jalan hasan basrikota samarindamembebankan kepada terdakwa membayar biaya perkara sejumlah rp500000 lima ribu rupiah\n",
            "Predicted Solution: menyatakan terdakwayusriansyah bin arifin alias muhammad yusuf bin muhammad rumtersebut diatastelah terbukti secara sah dan meyakinkan bersalah melakukan tindak pidana pencurian dalam keadaan memberatkan terus menerus sebagai perbuatan yang dilanjutkan sebagaimana dalam dakwaan tunggal menjatuhkan pidana kepada terdakwa oleh karena itudengan pidana penjara selama2 dua tahun dan 6 enam bulan menetapkan masa penangkapan dan penahanan yang telah dijalani terdakwa dikurangkan seluruhnya dari pidana yang dijatuhkan menetapkan terdakwa tetap ditahan menetapkan barang bukti berupa 1 satu kotak amal 1 satu buah obeng 2 dua buah tang dimusnahkan 1 satu bilahpisau cutter uang sejumlahrp39000000tiga ratus sembilan puluh ribu rupiah dikembalikan kepada pengurus masjid nurul iman di jalan hasan basrikota samarindamembebankan kepada terdakwa membayar biaya perkara sejumlah rp500000 lima ribu rupiah\n",
            "Top-5 Cases: [27, 14, 38, 7, 11]\n",
            "\n",
            "Query #5: menyatakan terdakwa bayu kiemas rastra sukrisna alias bayu bin hadiz soesaldy terbukti secara sah dan meyakinkan bersalah melakukan tindak pidana pencurian dalam keadaan memberatkan sebagaimana dalam dakwaan tunggal menjatuhkan pidana kepada terdakwa oleh karena itu dengan pidana penjara selama 7 tujuh bulan  menetapkan masa penangkapan dan penahanan yang telah dijalani terdakwa dikurangkan seluruhnya dari pidana yang dijatuhkan menetapkan terdakwa tetap ditahan menetapkan barang bukti berupa 1 satu buah tameng depan mio soul gt 1 satu buah speedometer mio soul gt 1 satu buah behel mio soul gt 1 satu buah spakbor belakang mio soul gt 1 satu buah jok serta bagasi mio soul gt 1 satu buah injakan kasar mio soul gt 1 satu buah plat kendaraan mio soul gt kt 3950 oj 1 satu buah bpkb buku pemilik kendaraan bermotor an abdul hamid dengan no k 01640411 seluruhnya dikembalikan kepada saksi muhammad rizqan 2 dua buah tang 3 tiga kunci ring pas 1 satu buah obeng min 1 satu buah kunci t seluruhnya dirampas untuk dimusnahkan6 membebankan kepada terdakwa untuk membayar biaya perkara sejumlah rp500000 lima ribu rupiah\n",
            "Predicted Solution: menyatakan terdakwa bayu kiemas rastra sukrisna alias bayu bin hadiz soesaldy terbukti secara sah dan meyakinkan bersalah melakukan tindak pidana pencurian dalam keadaan memberatkan sebagaimana dalam dakwaan tunggal menjatuhkan pidana kepada terdakwa oleh karena itu dengan pidana penjara selama 7 tujuh bulan  menetapkan masa penangkapan dan penahanan yang telah dijalani terdakwa dikurangkan seluruhnya dari pidana yang dijatuhkan menetapkan terdakwa tetap ditahan menetapkan barang bukti berupa 1 satu buah tameng depan mio soul gt 1 satu buah speedometer mio soul gt 1 satu buah behel mio soul gt 1 satu buah spakbor belakang mio soul gt 1 satu buah jok serta bagasi mio soul gt 1 satu buah injakan kasar mio soul gt 1 satu buah plat kendaraan mio soul gt kt 3950 oj 1 satu buah bpkb buku pemilik kendaraan bermotor an abdul hamid dengan no k 01640411 seluruhnya dikembalikan kepada saksi muhammad rizqan 2 dua buah tang 3 tiga kunci ring pas 1 satu buah obeng min 1 satu buah kunci t seluruhnya dirampas untuk dimusnahkan6 membebankan kepada terdakwa untuk membayar biaya perkara sejumlah rp500000 lima ribu rupiah\n",
            "Top-5 Cases: [5, 40, 12, 8, 28]\n",
            "\n",
            "Query #6: menyatakan terdakwa iwan seftiadi bin mansur terbukti secara sah dan meyakinkan bersalah melakukan tindak pidana penggelapan sebagaimana dalam dakwaan tunggal menjatuhkan pidana kepada terdakwa tersebut oleh karena itu dengan pidana penjara selama 2 dua tahun menetapkan masa penangkapan dan penahanan yang telah dijalani terdakwa dikurangkan seluruhnya dari pidana yang dijatuhkan menetapkan terdakwa tetap ditahan menetapkan barang bukti berupa   1 satu unit sepeda motor honda vario warna hitam nomor rangka  mh1kf4111jk056468 nomor mesin  kf41e1057149 1 satu bpkb sepeda motor dengan nomor n09944449 an linda sari 1 satu stnk sepeda motor honda vario warna hitam nomor rangka  mh1kf4111jk056468 nomor mesin  kf41e1057149 1 satu unit kunci sepeda motor honda vario 1 satu buah tas warna hijau 1 satu buah jam tangan merk sapphire 1 satu unit hp merk infinix 1 satu unit hp merk samsung a05 uang sebanyak rp 240000 dua ratus empat puluh ribu rupiah   dikembalikan kepada saksi marwoto bin giman alm6 membebankan kepada terdakwa untuk membayar biaya perkara sejumlah rp500000 lima ribu rupiah\n",
            "Predicted Solution: menyatakan terdakwa iwan seftiadi bin mansur terbukti secara sah dan meyakinkan bersalah melakukan tindak pidana penggelapan sebagaimana dalam dakwaan tunggal menjatuhkan pidana kepada terdakwa tersebut oleh karena itu dengan pidana penjara selama 2 dua tahun menetapkan masa penangkapan dan penahanan yang telah dijalani terdakwa dikurangkan seluruhnya dari pidana yang dijatuhkan menetapkan terdakwa tetap ditahan menetapkan barang bukti berupa   1 satu unit sepeda motor honda vario warna hitam nomor rangka  mh1kf4111jk056468 nomor mesin  kf41e1057149 1 satu bpkb sepeda motor dengan nomor n09944449 an linda sari 1 satu stnk sepeda motor honda vario warna hitam nomor rangka  mh1kf4111jk056468 nomor mesin  kf41e1057149 1 satu unit kunci sepeda motor honda vario 1 satu buah tas warna hijau 1 satu buah jam tangan merk sapphire 1 satu unit hp merk infinix 1 satu unit hp merk samsung a05 uang sebanyak rp 240000 dua ratus empat puluh ribu rupiah   dikembalikan kepada saksi marwoto bin giman alm6 membebankan kepada terdakwa untuk membayar biaya perkara sejumlah rp500000 lima ribu rupiah\n",
            "Top-5 Cases: [40, 28, 12, 29, 5]\n",
            "\n",
            "Query #7: menyatakan terdakwa sonydol bin mastur alm tersebut di atas terbukti secara sah dan meyakinkan bersalah melakukan tindak pidana pencurian dalam keadaan yang memberatkan sebagaimana dalam dakwaan tunggal menjatuhkan pidana kepada terdakwa oleh karena itu dengan pidana penjara selama 1 satu tahun 6 enam bulan menetapkan masa penangkapan dan penahanan yang telah dijalani terdakwa dikurangkan seluruhnya dari pidana yang dijatuhkan menetapkan terdakwa tetap dalam tahanan menetapkan barang bukti berupa  1 satu unit sepeda motor merk honda supra nf 125 td tanpa nomor polisi tanpa plat warna hitam silver tahun pembuatan 2007 nomor rangka  mh1jb81177k057356 dan nomor mesin  jb81e1058427 an sudarsi   dikembalikan kepada saksi eko budianto bin sudarsi alm 1 satu buah kunci kontak sepeda motor dirampas untuk dimusnahkan membebankan kepada terdakwa membayar biaya perkara sejumlah rp 500000 lima ribu rupiah\n",
            "Predicted Solution: menyatakan terdakwa sonydol bin mastur alm tersebut di atas terbukti secara sah dan meyakinkan bersalah melakukan tindak pidana pencurian dalam keadaan yang memberatkan sebagaimana dalam dakwaan tunggal menjatuhkan pidana kepada terdakwa oleh karena itu dengan pidana penjara selama 1 satu tahun 6 enam bulan menetapkan masa penangkapan dan penahanan yang telah dijalani terdakwa dikurangkan seluruhnya dari pidana yang dijatuhkan menetapkan terdakwa tetap dalam tahanan menetapkan barang bukti berupa  1 satu unit sepeda motor merk honda supra nf 125 td tanpa nomor polisi tanpa plat warna hitam silver tahun pembuatan 2007 nomor rangka  mh1jb81177k057356 dan nomor mesin  jb81e1058427 an sudarsi   dikembalikan kepada saksi eko budianto bin sudarsi alm 1 satu buah kunci kontak sepeda motor dirampas untuk dimusnahkan membebankan kepada terdakwa membayar biaya perkara sejumlah rp 500000 lima ribu rupiah\n",
            "Top-5 Cases: [20, 8, 31, 33, 14]\n",
            "\n",
            "Query #8: menyatakan terdakwa wahyu suxma segara als wahyu bin juki tersebut di atas terbukti secara sah dan meyakinkan bersalah melakukan tindak pidana pencurian dalam keadaan memberatkan  menjatuhkan pidana kepada terdakwa oleh karena itu dengan pidana penjara selama 3 tiga tahun menetapkan masa penangkapan dan penahanan yang telah dijalani terdakwa dikurangkan seluruhnya dari pidana yang dijatuhkan menetapkan terdakwa tetap dalam tahanan menyatakan barang bukti berupa   1 satu buah laptop merk acer warna hitam beserta charger 1 satu buah tas ransel merk clowny 1 satu unit mobil daihatsu merk grand max warna silver kt 1681 ii dengan nomor rangka mhkv3ba3jrk065638 dan nomor mesin k3mj53488   dikembalikan kepada saksi nur wahyuni als yuni binti abdul gafar 1 satu lembar jaket merk hsco 1 satu buah helm merk gm warna hitam  dirampas untuk dimusnahkan 1 satu unit sepeda motor merk yamaha mio soul warna merah hitam kt 6888 mi norangka mh314d205ck392663 nomesin 14d1392718 noregister 1017586 1 satu lembar stnk sepeda motor merk yamaha mio soul warna merah marron kt6888 mi norangka mh314d205ck392663 nomesin 14d1392718 noregister 1017586  dirampas untuk negara 1 satu buah flasdish rekaman cctv  dilampirkan dalam berkas perkara6 membebankan kepada terdakwa membayar biaya perkara sejumlah rp 500000 lima ribu rupiah\n",
            "Predicted Solution: menyatakan terdakwa wahyu suxma segara als wahyu bin juki tersebut di atas terbukti secara sah dan meyakinkan bersalah melakukan tindak pidana pencurian dalam keadaan memberatkan  menjatuhkan pidana kepada terdakwa oleh karena itu dengan pidana penjara selama 3 tiga tahun menetapkan masa penangkapan dan penahanan yang telah dijalani terdakwa dikurangkan seluruhnya dari pidana yang dijatuhkan menetapkan terdakwa tetap dalam tahanan menyatakan barang bukti berupa   1 satu buah laptop merk acer warna hitam beserta charger 1 satu buah tas ransel merk clowny 1 satu unit mobil daihatsu merk grand max warna silver kt 1681 ii dengan nomor rangka mhkv3ba3jrk065638 dan nomor mesin k3mj53488   dikembalikan kepada saksi nur wahyuni als yuni binti abdul gafar 1 satu lembar jaket merk hsco 1 satu buah helm merk gm warna hitam  dirampas untuk dimusnahkan 1 satu unit sepeda motor merk yamaha mio soul warna merah hitam kt 6888 mi norangka mh314d205ck392663 nomesin 14d1392718 noregister 1017586 1 satu lembar stnk sepeda motor merk yamaha mio soul warna merah marron kt6888 mi norangka mh314d205ck392663 nomesin 14d1392718 noregister 1017586  dirampas untuk negara 1 satu buah flasdish rekaman cctv  dilampirkan dalam berkas perkara6 membebankan kepada terdakwa membayar biaya perkara sejumlah rp 500000 lima ribu rupiah\n",
            "Top-5 Cases: [30, 26, 19, 24, 15]\n",
            "\n",
            "Query #9: menyatakan terdakwa muhammad ferdi irawan als ferdi bin sabransyah tersebut di atas terbukti secara sah dan meyakinkan bersalah melakukan tindak pidana pencurian dalam keadaan yang memberatkan sebagaimana dalam dakwaan tunggal menjatuhkan pidana kepada terdakwa oleh karena itu dengan pidana penjara selama 2 dua tahun menetapkan masa penangkapan dan penahanan yang telah dijalani terdakwa dikurangkan seluruhnya dari pidana yang dijatuhkan menetapkan terdakwa tetap dalam tahanan menetapkan barang bukti berupa 1 satu buah sepeda motor merk yamaha mio soul warna merah hitam kt6888 mi norangka mh314d205ck392663 nomesin 14d1392718 noregister 1017586 dipergunakan dalam perkara wahyu suxma segara als wahyu bin juki   6 membebankan kepada terdakwa membayar biaya perkara sejumlah rp 500000 lima ribu rupiah\n",
            "Predicted Solution: menyatakan terdakwa muhammad ferdi irawan als ferdi bin sabransyah tersebut di atas terbukti secara sah dan meyakinkan bersalah melakukan tindak pidana pencurian dalam keadaan yang memberatkan sebagaimana dalam dakwaan tunggal menjatuhkan pidana kepada terdakwa oleh karena itu dengan pidana penjara selama 2 dua tahun menetapkan masa penangkapan dan penahanan yang telah dijalani terdakwa dikurangkan seluruhnya dari pidana yang dijatuhkan menetapkan terdakwa tetap dalam tahanan menetapkan barang bukti berupa 1 satu buah sepeda motor merk yamaha mio soul warna merah hitam kt6888 mi norangka mh314d205ck392663 nomesin 14d1392718 noregister 1017586 dipergunakan dalam perkara wahyu suxma segara als wahyu bin juki   6 membebankan kepada terdakwa membayar biaya perkara sejumlah rp 500000 lima ribu rupiah\n",
            "Top-5 Cases: [31, 20, 16, 8, 38]\n",
            "\n",
            "Query #10: menyatakan terdakwa putri arisa hadriani als riris binti hadri terbukti secara sah dan meyakinkan bersalah melakukan tindak pidana pencurian sebagaimana dalam dakwaan tunggal menjatuhkan pidana kepada terdakwa oleh karena itu dengan pidana penjara selama 6 enam bulan  menetapkan masa penangkapan dan penahanan yang telah dijalani terdakwa dikurangkan seluruhnya dari pidana yang dijatuhkan menetapkan terdakwa tetap ditahan menetapkan barang bukti berupa uang tunai sebesar rp5200000 lima puluh dua ribu rupiah 1 satu pasang antinganting emas 1 satu buah kalung emas 1 satu buah cincin emas dikembalikan kepada saksi agus priyono 1 satu lembar pakaian warna abuabu rokok tulisan supreme 1 satu lembar celana panjang warna creamdikembalikan kepada terdakwa putri arisa hadriani uang tunai sebesar rp1295000000 dua belas juta sembilan ratus lima puluh ribu rupiah dikembalikan kepada penuntut umum untuk dipergunakan sebagai barang bukti dalam perkara atas nama hendra bin h rustan6 membebankan kepada terdakwa untuk membayar biaya perkara sejumlah rp500000 lima ribu rupiah\n",
            "Predicted Solution: menyatakan terdakwa putri arisa hadriani als riris binti hadri terbukti secara sah dan meyakinkan bersalah melakukan tindak pidana pencurian sebagaimana dalam dakwaan tunggal menjatuhkan pidana kepada terdakwa oleh karena itu dengan pidana penjara selama 6 enam bulan  menetapkan masa penangkapan dan penahanan yang telah dijalani terdakwa dikurangkan seluruhnya dari pidana yang dijatuhkan menetapkan terdakwa tetap ditahan menetapkan barang bukti berupa uang tunai sebesar rp5200000 lima puluh dua ribu rupiah 1 satu pasang antinganting emas 1 satu buah kalung emas 1 satu buah cincin emas dikembalikan kepada saksi agus priyono 1 satu lembar pakaian warna abuabu rokok tulisan supreme 1 satu lembar celana panjang warna creamdikembalikan kepada terdakwa putri arisa hadriani uang tunai sebesar rp1295000000 dua belas juta sembilan ratus lima puluh ribu rupiah dikembalikan kepada penuntut umum untuk dipergunakan sebagai barang bukti dalam perkara atas nama hendra bin h rustan6 membebankan kepada terdakwa untuk membayar biaya perkara sejumlah rp500000 lima ribu rupiah\n",
            "Top-5 Cases: [7, 38, 41, 11, 8]\n"
          ]
        }
      ]
    },
    {
      "cell_type": "code",
      "source": [
        "import pandas as pd\n",
        "import os\n",
        "\n",
        "# Buat folder jika belum ada\n",
        "results_path = \"/content/drive/MyDrive/penalaran_uas/data/results/predictions.csv\"\n",
        "os.makedirs(os.path.dirname(results_path), exist_ok=True)\n",
        "\n",
        "# Simpan ke CSV\n",
        "results_df = pd.DataFrame(results)\n",
        "results_df.to_csv(results_path, index=False)\n",
        "\n",
        "print(f\"\\n\u2705 Hasil prediksi disimpan di: {results_path}\")\n"
      ],
      "metadata": {
        "colab": {
          "base_uri": "https://localhost:8080/"
        },
        "id": "Fg4-Gd8uQ9P0",
        "executionInfo": {
          "status": "ok",
          "timestamp": 1751013517187,
          "user_tz": -420,
          "elapsed": 315,
          "user": {
            "displayName": "Bastian Feraries Wijaya",
            "userId": "16724100675661699270"
          }
        },
        "outputId": "05ef3ac6-729b-43e0-bba4-f2c32703d2cd"
      },
      "execution_count": 20,
      "outputs": [
        {
          "output_type": "stream",
          "name": "stdout",
          "text": [
            "\n",
            "\u2705 Hasil prediksi disimpan di: /content/drive/MyDrive/penalaran_uas/data/results/predictions.csv\n"
          ]
        }
      ]
    },
    {
      "cell_type": "code",
      "source": [
        "# 1. Library\n",
        "import pandas as pd\n",
        "import numpy as np\n",
        "import torch\n",
        "from transformers import AutoTokenizer, AutoModel\n",
        "from sklearn.metrics.pairwise import cosine_similarity\n",
        "from collections import Counter\n",
        "from typing import List, Tuple\n",
        "import re\n",
        "\n",
        "def normalize_sentence(text):\n",
        "    text = text.lower()\n",
        "    text = re.sub(r\"[^\\w\\s]\", \"\", text)  # hapus tanda baca\n",
        "    text = re.sub(r\"\\b(selama|pidana|penjara|selama)\\b\", \"\", text)  # hapus kata umum\n",
        "    text = re.sub(r\"\\b(satu|dua|tiga|empat|lima|enam|tujuh|delapan|sembilan|sepuluh)\\b\", \"\", text)  # hapus teks angka\n",
        "    text = re.sub(r\"\\s+\", \" \", text).strip()\n",
        "    return text\n",
        "\n",
        "\n",
        "# 2. Load model dan tokenizer IndoBERT\n",
        "tokenizer = AutoTokenizer.from_pretrained(\"indobenchmark/indobert-base-p1\")\n",
        "model = AutoModel.from_pretrained(\"indobenchmark/indobert-base-p1\")\n",
        "model.eval()\n",
        "\n",
        "# 3. Fungsi dapatkan embedding [CLS] token\n",
        "def get_bert_embedding(text):\n",
        "    inputs = tokenizer(text, return_tensors='pt', truncation=True, padding='max_length', max_length=256)\n",
        "    with torch.no_grad():\n",
        "        outputs = model(**inputs)\n",
        "    return outputs.last_hidden_state[:, 0, :].squeeze().numpy()  # CLS token\n",
        "\n",
        "# 4. Muat data kasus\n",
        "data_path = \"/content/drive/MyDrive/penalaran_uas/data/processed/cases.csv\"\n",
        "cases_df = pd.read_csv(data_path)\n",
        "\n",
        "# 5. Bangun case base dan solusi\n",
        "case_base = dict(zip(cases_df['case_id'], cases_df['jenis_pencurian']))\n",
        "case_solutions = dict(zip(cases_df['case_id'], cases_df['pidana_penjara']))\n",
        "\n",
        "# 6. Buat embedding semua kasus\n",
        "print(\"\ud83d\udd0d Membuat BERT embeddings untuk semua kasus...\")\n",
        "case_embeddings = {cid: get_bert_embedding(text) for cid, text in case_base.items()}\n",
        "\n",
        "# 7. Fungsi retrieve\n",
        "def retrieve(query: str, k: int = 5) -> List[Tuple[int, float]]:\n",
        "    query_vec = get_bert_embedding(query)\n",
        "    sims = []\n",
        "    for cid, emb in case_embeddings.items():\n",
        "        sim = cosine_similarity([query_vec], [emb])[0][0]\n",
        "        sims.append((cid, sim))\n",
        "    top_k = sorted(sims, key=lambda x: x[1], reverse=True)[:k]\n",
        "    return top_k  # (case_id, similarity_score)\n",
        "\n",
        "# 8. Fungsi predict_outcome\n",
        "def predict_outcome(query: str, k: int = 5, weighted: bool = True) -> str:\n",
        "    top_k = retrieve(query, k)\n",
        "    if weighted:\n",
        "        # Weighted voting\n",
        "        weights = {}\n",
        "        for cid, sim in top_k:\n",
        "            sol = case_solutions.get(cid, \"Tidak diketahui\")\n",
        "            weights[sol] = weights.get(sol, 0) + sim\n",
        "        predicted = max(weights.items(), key=lambda x: x[1])[0]\n",
        "    else:\n",
        "        # Majority voting\n",
        "        solutions = [case_solutions.get(cid, \"Tidak diketahui\") for cid, _ in top_k]\n",
        "        predicted = Counter(solutions).most_common(1)[0][0]\n",
        "    return predicted\n",
        "\n",
        "# 9. Test cases (query dan label sebenarnya)\n",
        "test_cases = [\n",
        "    {\"text\": \"melakukan tindak pidana pencurian dalam keadaan yang memberatkan sebagaimana dalam dakwaan alternatif pertaman\", \"label\": \"pidana penjara 7 tujuh bulan\"},\n",
        "    {\"text\": \"melakukan tindak pidana pencurian dalam keadaan memberatkan sebagaimana dalam dakwaan primair\", \"label\": \"pidana penjara 1 tahun\"},\n",
        "    {\"text\": \"melakukan tindak pidana pencurian sebagaimana dalam dakwaan tunggal\", \"label\": \"pidana penjara 1 tahun\"},\n",
        "    {\"text\": \"melakukan tindak pidana pencurian dalam keadaan memberatkan sebagaimana dalam dakwaan tunggal\", \"label\": \"pidana penjara 10 sepuluh bulan\"},\n",
        "    {\"text\": \"melakukan tindak pidana percobaan pencurian dalam keadaan memberatkan sebagaimana dalam dakwaan tunggal\", \"label\": \"pidana penjara 2 tahun\"},\n",
        "]\n",
        "\n",
        "# 10. Evaluasi prediksi\n",
        "correct = 0\n",
        "total = len(test_cases)\n",
        "\n",
        "print(\"\\n\ud83d\udccb Hasil Prediksi:\")\n",
        "for i, case in enumerate(test_cases):\n",
        "    pred = predict_outcome(case['text'])\n",
        "    norm_pred = normalize_sentence(pred)\n",
        "    norm_label = normalize_sentence(case['label'])\n",
        "\n",
        "    print(f\"{i+1}. Query: {case['text']}\")\n",
        "    print(f\"   Prediksi     : {pred}\")\n",
        "    print(f\"   Label Asli   : {case['label']}\")\n",
        "    print(f\"   \ud83d\udd0e Normalisasi \u2192 Prediksi: '{norm_pred}' | Label: '{norm_label}'\")\n",
        "    print(f\"   {'\u2714\ufe0f Benar' if norm_pred == norm_label else '\u274c Salah'}\\n\")\n",
        "\n",
        "    if norm_pred == norm_label:\n",
        "        correct += 1\n",
        "\n",
        "\n",
        "accuracy = correct / total\n",
        "print(f\"\ud83c\udfaf Akurasi Prediksi: {accuracy * 100:.2f}%\")\n"
      ],
      "metadata": {
        "colab": {
          "base_uri": "https://localhost:8080/"
        },
        "id": "xO1lHjqvSrcl",
        "executionInfo": {
          "status": "ok",
          "timestamp": 1750977353362,
          "user_tz": -420,
          "elapsed": 58821,
          "user": {
            "displayName": "Bastian Feraries Wijaya",
            "userId": "16724100675661699270"
          }
        },
        "outputId": "e76602e7-a1a0-419e-a6c9-464a7699ccaf"
      },
      "execution_count": null,
      "outputs": [
        {
          "output_type": "stream",
          "name": "stdout",
          "text": [
            "\ud83d\udd0d Membuat BERT embeddings untuk semua kasus...\n",
            "\n",
            "\ud83d\udccb Hasil Prediksi:\n",
            "1. Query: melakukan tindak pidana pencurian dalam keadaan yang memberatkan sebagaimana dalam dakwaan alternatif pertaman\n",
            "   Prediksi     : 7 tujuh bulan\n",
            "   Label Asli   : pidana penjara 7 tujuh bulan\n",
            "   \ud83d\udd0e Normalisasi \u2192 Prediksi: '7 bulan' | Label: '7 bulan'\n",
            "   \u2714\ufe0f Benar\n",
            "\n",
            "2. Query: melakukan tindak pidana pencurian dalam keadaan memberatkan sebagaimana dalam dakwaan primair\n",
            "   Prediksi     : 2 dua tahun 6 enam bulan\n",
            "   Label Asli   : pidana penjara 1 tahun\n",
            "   \ud83d\udd0e Normalisasi \u2192 Prediksi: '2 tahun 6 bulan' | Label: '1 tahun'\n",
            "   \u274c Salah\n",
            "\n",
            "3. Query: melakukan tindak pidana pencurian sebagaimana dalam dakwaan tunggal\n",
            "   Prediksi     : 1 satu tahun 3 tiga bulan\n",
            "   Label Asli   : pidana penjara 1 tahun\n",
            "   \ud83d\udd0e Normalisasi \u2192 Prediksi: '1 tahun 3 bulan' | Label: '1 tahun'\n",
            "   \u274c Salah\n",
            "\n",
            "4. Query: melakukan tindak pidana pencurian dalam keadaan memberatkan sebagaimana dalam dakwaan tunggal\n",
            "   Prediksi     : 10 sepuluh bulan\n",
            "   Label Asli   : pidana penjara 10 sepuluh bulan\n",
            "   \ud83d\udd0e Normalisasi \u2192 Prediksi: '10 bulan' | Label: '10 bulan'\n",
            "   \u2714\ufe0f Benar\n",
            "\n",
            "5. Query: melakukan tindak pidana percobaan pencurian dalam keadaan memberatkan sebagaimana dalam dakwaan tunggal\n",
            "   Prediksi     : selama selama 8 delapan bulan\n",
            "   Label Asli   : pidana penjara 2 tahun\n",
            "   \ud83d\udd0e Normalisasi \u2192 Prediksi: '8 bulan' | Label: '2 tahun'\n",
            "   \u274c Salah\n",
            "\n",
            "\ud83c\udfaf Akurasi Prediksi: 40.00%\n"
          ]
        }
      ]
    },
    {
      "cell_type": "code",
      "source": [
        "import json\n",
        "import pandas as pd\n",
        "from collections import Counter\n",
        "from typing import List, Tuple\n"
      ],
      "metadata": {
        "id": "QPvxhWS-Zw1b",
        "executionInfo": {
          "status": "ok",
          "timestamp": 1751013525262,
          "user_tz": -420,
          "elapsed": 9,
          "user": {
            "displayName": "Bastian Feraries Wijaya",
            "userId": "16724100675661699270"
          }
        }
      },
      "execution_count": 21,
      "outputs": []
    },
    {
      "cell_type": "code",
      "source": [
        "# Load hasil representasi sebelumnya\n",
        "cases_df = pd.read_csv(\"/content/drive/MyDrive/penalaran_uas/data/processed/cases.csv\")\n",
        "\n",
        "# Misal solusi diambil dari kolom 'amar_putusan' (ganti sesuai data)\n",
        "case_solutions = dict(zip(cases_df['case_id'], cases_df['catatan_amar']))\n"
      ],
      "metadata": {
        "id": "ub1WLYFhZx6E",
        "executionInfo": {
          "status": "ok",
          "timestamp": 1751013527093,
          "user_tz": -420,
          "elapsed": 16,
          "user": {
            "displayName": "Bastian Feraries Wijaya",
            "userId": "16724100675661699270"
          }
        }
      },
      "execution_count": 22,
      "outputs": []
    },
    {
      "cell_type": "code",
      "source": [
        "def predict_penjara_from_query(query: str, k=5, weighted=False):\n",
        "    \"\"\"\n",
        "    Prediksi estimasi hukuman penjara berdasarkan kasus mirip menggunakan BERT retrieval.\n",
        "\n",
        "    Parameters:\n",
        "    - query: string input teks kasus baru\n",
        "    - k: jumlah kasus mirip (top-k)\n",
        "    - weighted: jika True \u2192 gunakan weighted vote berdasarkan similarity\n",
        "\n",
        "    Returns:\n",
        "    - hasil_prediksi: string estimasi hukuman\n",
        "    - case_ids: top-k case_ids\n",
        "    - solusi_detail: list[(case_id, solusi, similarity)]\n",
        "    \"\"\"\n",
        "    top_k = retrieve(query, k)\n",
        "    case_ids = [cid for cid, sim in top_k]\n",
        "    similarities = [sim for cid, sim in top_k]\n",
        "\n",
        "    solusi_list = [case_solutions.get(cid, \"Tidak ditemukan\") for cid in case_ids]\n",
        "    solusi_detail = list(zip(case_ids, solusi_list, similarities))\n",
        "\n",
        "    if weighted:\n",
        "        # Voting berdasarkan bobot similarity\n",
        "        from collections import defaultdict\n",
        "        vote_score = defaultdict(float)\n",
        "        for sol, sim in zip(solusi_list, similarities):\n",
        "            vote_score[sol] += sim\n",
        "        hasil_prediksi = max(vote_score.items(), key=lambda x: x[1])[0]\n",
        "    else:\n",
        "        # Majority vote biasa\n",
        "        from collections import Counter\n",
        "        hasil_prediksi = Counter(solusi_list).most_common(1)[0][0]\n",
        "\n",
        "    return hasil_prediksi, case_ids, solusi_detail\n"
      ],
      "metadata": {
        "id": "wh_spDVsZ2vy",
        "executionInfo": {
          "status": "ok",
          "timestamp": 1751013530141,
          "user_tz": -420,
          "elapsed": 4,
          "user": {
            "displayName": "Bastian Feraries Wijaya",
            "userId": "16724100675661699270"
          }
        }
      },
      "execution_count": 23,
      "outputs": []
    },
    {
      "cell_type": "code",
      "source": [
        "# Load 5 query uji dari file\n",
        "with open(\"/content/drive/MyDrive/penalaran_uas/data/eval/queries.json\") as f:\n",
        "    eval_queries = json.load(f)\n",
        "\n",
        "results = []\n",
        "\n",
        "for i, q in enumerate(eval_queries):\n",
        "    pred_solution, top_ids = predict_outcome(q[\"query\"])\n",
        "    results.append({\n",
        "        \"query_id\": i + 1,\n",
        "        \"predicted_solution\": pred_solution,\n",
        "        \"top_5_case_ids\": \", \".join(map(str, top_ids))\n",
        "    })\n",
        "\n",
        "# Simpan ke predictions.csv\n",
        "results_df = pd.DataFrame(results)\n",
        "output_path = \"/content/drive/MyDrive/penalaran_uas/data/results/predictions.csv\"\n",
        "results_df.to_csv(output_path, index=False)\n",
        "print(f\"\u2705 Hasil prediksi disimpan di: {output_path}\")\n"
      ],
      "metadata": {
        "colab": {
          "base_uri": "https://localhost:8080/"
        },
        "id": "ccFVFQFcZ98P",
        "executionInfo": {
          "status": "ok",
          "timestamp": 1751013550291,
          "user_tz": -420,
          "elapsed": 5721,
          "user": {
            "displayName": "Bastian Feraries Wijaya",
            "userId": "16724100675661699270"
          }
        },
        "outputId": "87e74019-80f6-41bc-ba64-b9c59344db4e"
      },
      "execution_count": 24,
      "outputs": [
        {
          "output_type": "stream",
          "name": "stdout",
          "text": [
            "\u2705 Hasil prediksi disimpan di: /content/drive/MyDrive/penalaran_uas/data/results/predictions.csv\n"
          ]
        }
      ]
    },
    {
      "cell_type": "code",
      "source": [
        "import json\n",
        "import torch\n",
        "import numpy as np\n",
        "import pandas as pd\n",
        "from sklearn.metrics.pairwise import cosine_similarity\n",
        "from transformers import AutoTokenizer, AutoModel\n",
        "from collections import Counter, defaultdict\n",
        "from typing import List, Tuple\n",
        "\n",
        "# Load model IndoBERT\n",
        "tokenizer = AutoTokenizer.from_pretrained(\"indobenchmark/indobert-base-p1\")\n",
        "model = AutoModel.from_pretrained(\"indobenchmark/indobert-base-p1\")\n",
        "model.eval()\n",
        "\n",
        "# Load data kasus\n",
        "data_path = \"/content/drive/MyDrive/penalaran_uas/data/processed/cases.csv\"\n",
        "df = pd.read_csv(data_path)\n",
        "\n",
        "# Ambil teks representasi (ringkasan) & solusi (misalnya pidana_penjara)\n",
        "texts = df['catatan_amar'].astype(str).tolist()\n",
        "case_ids = df['case_id'].tolist()\n",
        "case_solutions = dict(zip(df['case_id'], df['pidana_penjara'].fillna(\"Tidak diketahui\")))\n"
      ],
      "metadata": {
        "id": "vXMBTLo3dFnB",
        "executionInfo": {
          "status": "ok",
          "timestamp": 1751013673033,
          "user_tz": -420,
          "elapsed": 641,
          "user": {
            "displayName": "Bastian Feraries Wijaya",
            "userId": "16724100675661699270"
          }
        }
      },
      "execution_count": 27,
      "outputs": []
    },
    {
      "cell_type": "code",
      "source": [
        "# Fungsi BERT CLS vector\n",
        "def get_bert_embedding(text):\n",
        "    inputs = tokenizer(text, return_tensors='pt', truncation=True, padding='max_length', max_length=256)\n",
        "    with torch.no_grad():\n",
        "        outputs = model(**inputs)\n",
        "    return outputs.last_hidden_state[:, 0, :].squeeze().numpy()\n",
        "\n",
        "# Buat representasi semua kasus\n",
        "print(\"\ud83d\udd04 Membuat representasi BERT semua kasus...\")\n",
        "case_vectors = np.array([get_bert_embedding(text) for text in texts])\n"
      ],
      "metadata": {
        "colab": {
          "base_uri": "https://localhost:8080/"
        },
        "id": "ixIZkA-odW2Q",
        "executionInfo": {
          "status": "ok",
          "timestamp": 1751013699983,
          "user_tz": -420,
          "elapsed": 24837,
          "user": {
            "displayName": "Bastian Feraries Wijaya",
            "userId": "16724100675661699270"
          }
        },
        "outputId": "860a449e-baa2-43e8-d8e1-cd7e5fea5f66"
      },
      "execution_count": 28,
      "outputs": [
        {
          "output_type": "stream",
          "name": "stdout",
          "text": [
            "\ud83d\udd04 Membuat representasi BERT semua kasus...\n"
          ]
        }
      ]
    },
    {
      "cell_type": "code",
      "source": [
        "# Fungsi retrieval: top-k berdasarkan similarity\n",
        "def retrieve(query: str, k: int = 5) -> List[Tuple[int, float]]:\n",
        "    q_vec = get_bert_embedding(query)\n",
        "    sims = cosine_similarity([q_vec], case_vectors)[0]\n",
        "    top_k_idx = sims.argsort()[::-1][:k]\n",
        "    return [(case_ids[i], sims[i]) for i in top_k_idx]\n",
        "\n",
        "# Fungsi prediksi solusi\n",
        "def predict_penjara_from_query(query: str, k=5, weighted=False):\n",
        "    top_k = retrieve(query, k)\n",
        "    top_ids = [cid for cid, _ in top_k]\n",
        "    similarities = [sim for cid, sim in top_k]\n",
        "    solusi_list = [case_solutions.get(cid, \"Tidak diketahui\") for cid in top_ids]\n",
        "\n",
        "    if weighted:\n",
        "        vote_score = defaultdict(float)\n",
        "        for sol, sim in zip(solusi_list, similarities):\n",
        "            vote_score[sol] += sim\n",
        "        hasil_prediksi = max(vote_score.items(), key=lambda x: x[1])[0]\n",
        "    else:\n",
        "        hasil_prediksi = Counter(solusi_list).most_common(1)[0][0]\n",
        "\n",
        "    # Rinci semua solusi untuk debug/output\n",
        "    solusi_detail = list(zip(top_ids, solusi_list, similarities))\n",
        "    return hasil_prediksi, top_ids, solusi_detail\n"
      ],
      "metadata": {
        "id": "nttky20tdZgq",
        "executionInfo": {
          "status": "ok",
          "timestamp": 1751013703185,
          "user_tz": -420,
          "elapsed": 2,
          "user": {
            "displayName": "Bastian Feraries Wijaya",
            "userId": "16724100675661699270"
          }
        }
      },
      "execution_count": 29,
      "outputs": []
    },
    {
      "cell_type": "code",
      "source": [
        "query_text = \"Terdakwa melakukan pencurian kendaraan bermotor pada malam hari dengan kekerasan.\"\n",
        "\n",
        "prediksi, top_ids, detail = predict_penjara_from_query(query_text, weighted=True)\n",
        "\n",
        "print(\"\ud83d\udcdd Kasus Baru:\")\n",
        "print(query_text)\n",
        "print(\"\\n\ud83d\udccc Estimasi Hukuman Penjara:\")\n",
        "print(prediksi)\n",
        "print(\"\\n\ud83d\udd0d Top-5 Kasus Terdekat:\")\n",
        "for cid, sol, sim in detail:\n",
        "    print(f\" - Case {cid} | Similarity: {sim:.4f}\")\n",
        "    print(f\"   Solusi: {sol}\")\n"
      ],
      "metadata": {
        "colab": {
          "base_uri": "https://localhost:8080/"
        },
        "id": "7I6VARi3dbbd",
        "executionInfo": {
          "status": "ok",
          "timestamp": 1751013710076,
          "user_tz": -420,
          "elapsed": 581,
          "user": {
            "displayName": "Bastian Feraries Wijaya",
            "userId": "16724100675661699270"
          }
        },
        "outputId": "79cd0933-0cba-4018-9708-89f0dcd04281"
      },
      "execution_count": 30,
      "outputs": [
        {
          "output_type": "stream",
          "name": "stdout",
          "text": [
            "\ud83d\udcdd Kasus Baru:\n",
            "Terdakwa melakukan pencurian kendaraan bermotor pada malam hari dengan kekerasan.\n",
            "\n",
            "\ud83d\udccc Estimasi Hukuman Penjara:\n",
            "6 enam bulan\n",
            "\n",
            "\ud83d\udd0d Top-5 Kasus Terdekat:\n",
            " - Case 42 | Similarity: 0.7660\n",
            "   Solusi: 6 enam bulan\n",
            " - Case 10 | Similarity: 0.7431\n",
            "   Solusi: 10 sepuluh bulan\n",
            " - Case 21 | Similarity: 0.7285\n",
            "   Solusi: 1 satu tahun\n",
            " - Case 9 | Similarity: 0.7247\n",
            "   Solusi: 2 dua tahun 6 enam bulan\n",
            " - Case 6 | Similarity: 0.6820\n",
            "   Solusi: selama 11 sebelas bulan\n"
          ]
        }
      ]
    },
    {
      "cell_type": "code",
      "source": [
        "contoh_kasus_baru = [\n",
        "    \"Terdakwa melakukan pencurian sepeda motor di malam hari dengan cara merusak kunci kendaraan dan melarikan diri.\",\n",
        "\n",
        "    \"Terdakwa memasuki rumah korban secara diam-diam dan mengambil perhiasan emas serta uang tunai tanpa izin dari pemilik.\",\n",
        "\n",
        "    \"Terdakwa terbukti mencuri barang dagangan dari toko swalayan dengan cara menyembunyikannya di dalam pakaian.\",\n",
        "\n",
        "    \"Terdakwa melakukan pencurian disertai kekerasan dengan menggunakan senjata tajam saat mengambil dompet korban di jalan umum.\",\n",
        "\n",
        "    \"Terdakwa mencuri handphone di ruang kelas saat jam pelajaran berlangsung tanpa diketahui oleh pemiliknya.\"\n",
        "]\n"
      ],
      "metadata": {
        "id": "k1li0i08f3Ot",
        "executionInfo": {
          "status": "ok",
          "timestamp": 1751013963341,
          "user_tz": -420,
          "elapsed": 37,
          "user": {
            "displayName": "Bastian Feraries Wijaya",
            "userId": "16724100675661699270"
          }
        }
      },
      "execution_count": 44,
      "outputs": []
    },
    {
      "cell_type": "code",
      "source": [
        "ground_truth = [\n",
        "    \"pidana penjara selama 2 dua tahun\",         # untuk kasus 1\n",
        "    \"pidana penjara selama 1 tahun\",         # untuk kasus 2\n",
        "    \"pidana penjara selama 8 bulan\",         # untuk kasus 3\n",
        "    \"6 enam bulan\",         # untuk kasus 4\n",
        "    \"pidana penjara selama 6 bulan\"          # untuk kasus 5\n",
        "]\n"
      ],
      "metadata": {
        "id": "s_EqogY3jp_g",
        "executionInfo": {
          "status": "ok",
          "timestamp": 1751013968815,
          "user_tz": -420,
          "elapsed": 4,
          "user": {
            "displayName": "Bastian Feraries Wijaya",
            "userId": "16724100675661699270"
          }
        }
      },
      "execution_count": 46,
      "outputs": []
    },
    {
      "cell_type": "code",
      "source": [
        "correct = 0  # Hitung jumlah prediksi benar\n",
        "total = len(contoh_kasus_baru)\n",
        "\n",
        "for i, kasus in enumerate(contoh_kasus_baru, 1):\n",
        "    pred, top_ids, detail = predict_penjara_from_query(kasus, weighted=True)\n",
        "    label_asli = ground_truth[i - 1]\n",
        "\n",
        "    is_correct = pred.strip().lower() == label_asli.strip().lower()\n",
        "    correct += int(is_correct)\n",
        "\n",
        "    print(f\"\\n=== Kasus {i} ===\")\n",
        "    print(f\"Teks: {kasus}\")\n",
        "    print(f\"\ud83d\udccc Estimasi Hukuman: {pred}\")\n",
        "    print(f\"\ud83c\udfaf Ground Truth: {label_asli}\")\n",
        "    print(f\"\u2705 {'Benar' if is_correct else 'Salah'}\")\n",
        "    print(f\"\ud83d\udd0d Top-5 Case IDs: {top_ids}\")\n",
        "\n",
        "# Akurasi total\n",
        "accuracy = correct / total\n",
        "print(f\"\\n\ud83c\udfaf Akurasi Prediksi: {accuracy * 100:.2f}% ({correct}/{total})\")\n"
      ],
      "metadata": {
        "colab": {
          "base_uri": "https://localhost:8080/"
        },
        "id": "YqBjTEzrf4Z-",
        "executionInfo": {
          "status": "ok",
          "timestamp": 1751013973793,
          "user_tz": -420,
          "elapsed": 3011,
          "user": {
            "displayName": "Bastian Feraries Wijaya",
            "userId": "16724100675661699270"
          }
        },
        "outputId": "bfb5342a-cd31-475a-8458-aad7dd446723"
      },
      "execution_count": 47,
      "outputs": [
        {
          "output_type": "stream",
          "name": "stdout",
          "text": [
            "\n",
            "=== Kasus 1 ===\n",
            "Teks: Terdakwa melakukan pencurian sepeda motor di malam hari dengan cara merusak kunci kendaraan dan melarikan diri.\n",
            "\ud83d\udccc Estimasi Hukuman: 2 dua tahun 6 enam bulan\n",
            "\ud83c\udfaf Ground Truth: pidana penjara selama 2 dua tahun\n",
            "\u2705 Salah\n",
            "\ud83d\udd0d Top-5 Case IDs: [42, 10, 21, 9, 37]\n",
            "\n",
            "=== Kasus 2 ===\n",
            "Teks: Terdakwa memasuki rumah korban secara diam-diam dan mengambil perhiasan emas serta uang tunai tanpa izin dari pemilik.\n",
            "\ud83d\udccc Estimasi Hukuman: 6 enam bulan\n",
            "\ud83c\udfaf Ground Truth: pidana penjara selama 1 tahun\n",
            "\u2705 Salah\n",
            "\ud83d\udd0d Top-5 Case IDs: [42, 10, 21, 9, 6]\n",
            "\n",
            "=== Kasus 3 ===\n",
            "Teks: Terdakwa terbukti mencuri barang dagangan dari toko swalayan dengan cara menyembunyikannya di dalam pakaian.\n",
            "\ud83d\udccc Estimasi Hukuman: 2 dua tahun 6 enam bulan\n",
            "\ud83c\udfaf Ground Truth: pidana penjara selama 8 bulan\n",
            "\u2705 Salah\n",
            "\ud83d\udd0d Top-5 Case IDs: [42, 10, 21, 9, 37]\n",
            "\n",
            "=== Kasus 4 ===\n",
            "Teks: Terdakwa melakukan pencurian disertai kekerasan dengan menggunakan senjata tajam saat mengambil dompet korban di jalan umum.\n",
            "\ud83d\udccc Estimasi Hukuman: 6 enam bulan\n",
            "\ud83c\udfaf Ground Truth: 6 enam bulan\n",
            "\u2705 Benar\n",
            "\ud83d\udd0d Top-5 Case IDs: [42, 10, 21, 9, 6]\n",
            "\n",
            "=== Kasus 5 ===\n",
            "Teks: Terdakwa mencuri handphone di ruang kelas saat jam pelajaran berlangsung tanpa diketahui oleh pemiliknya.\n",
            "\ud83d\udccc Estimasi Hukuman: 2 dua tahun 6 enam bulan\n",
            "\ud83c\udfaf Ground Truth: pidana penjara selama 6 bulan\n",
            "\u2705 Salah\n",
            "\ud83d\udd0d Top-5 Case IDs: [21, 9, 42, 10, 37]\n",
            "\n",
            "\ud83c\udfaf Akurasi Prediksi: 20.00% (1/5)\n"
          ]
        }
      ]
    },
    {
      "cell_type": "code",
      "source": [
        "\n",
        "hasil_prediksi = []\n",
        "\n",
        "for i, kasus in enumerate(contoh_kasus_baru, 1):\n",
        "    pred, top_ids, detail = predict_penjara_from_query(kasus, weighted=True)\n",
        "    hasil_prediksi.append({\n",
        "        \"query_id\": i,\n",
        "        \"query_text\": kasus,\n",
        "        \"predicted_solution\": pred,\n",
        "        \"top_5_case_ids\": \", \".join(map(str, top_ids))\n",
        "    })\n",
        "\n",
        "# Simpan ke CSV\n",
        "df_prediksi = pd.DataFrame(hasil_prediksi)\n",
        "save_path = \"/content/drive/MyDrive/penalaran_uas/data/results/predictions.csv\"\n",
        "df_prediksi.to_csv(save_path, index=False)\n",
        "\n",
        "print(f\"\u2705 Hasil prediksi 5 kasus baru disimpan di:\\n{save_path}\")\n"
      ],
      "metadata": {
        "colab": {
          "base_uri": "https://localhost:8080/"
        },
        "id": "gh5pWRpgg396",
        "executionInfo": {
          "status": "ok",
          "timestamp": 1750979586867,
          "user_tz": -420,
          "elapsed": 5339,
          "user": {
            "displayName": "Bastian Feraries Wijaya",
            "userId": "16724100675661699270"
          }
        },
        "outputId": "fe54cfe8-765d-4978-ddc0-3c156139b795"
      },
      "execution_count": null,
      "outputs": [
        {
          "output_type": "stream",
          "name": "stdout",
          "text": [
            "\u2705 Hasil prediksi 5 kasus baru disimpan di:\n",
            "/content/drive/MyDrive/penalaran_uas/data/results/predictions.csv\n"
          ]
        }
      ]
    },
    {
      "cell_type": "markdown",
      "source": [
        "# BERT"
      ],
      "metadata": {
        "id": "oX8TBGC5nnnD"
      }
    },
    {
      "cell_type": "code",
      "source": [
        "!pip install transformers tensorflow keras --quiet"
      ],
      "metadata": {
        "id": "w7DYoaPvntnQ",
        "executionInfo": {
          "status": "ok",
          "timestamp": 1751015203576,
          "user_tz": -420,
          "elapsed": 8428,
          "user": {
            "displayName": "Bastian Feraries Wijaya",
            "userId": "16724100675661699270"
          }
        }
      },
      "execution_count": 48,
      "outputs": []
    },
    {
      "cell_type": "code",
      "source": [
        "import pandas as pd\n",
        "import numpy as np\n",
        "import tensorflow as tf\n",
        "from sklearn.model_selection import train_test_split\n",
        "from sklearn.preprocessing import LabelEncoder\n",
        "from sklearn.metrics import classification_report, confusion_matrix, accuracy_score\n",
        "import seaborn as sns\n",
        "import matplotlib.pyplot as plt\n",
        "from transformers import BertTokenizer, TFBertModel\n",
        "from tensorflow.keras.layers import Input, Dense, Dropout\n",
        "from tensorflow.keras.models import Model\n",
        "from tensorflow.keras.optimizers import Adam\n",
        "import re"
      ],
      "metadata": {
        "id": "lw51RsWMn_Pu",
        "executionInfo": {
          "status": "ok",
          "timestamp": 1751015869695,
          "user_tz": -420,
          "elapsed": 2,
          "user": {
            "displayName": "Bastian Feraries Wijaya",
            "userId": "16724100675661699270"
          }
        }
      },
      "execution_count": 62,
      "outputs": []
    },
    {
      "cell_type": "code",
      "source": [
        "file_path = \"/content/drive/MyDrive//penalaran_uas/data/processed/cases.csv\"\n",
        "df = pd.read_csv(file_path)\n",
        "df = df[['pidana_penjara', 'kategori_pencurian']].dropna()"
      ],
      "metadata": {
        "id": "zN-Zjn6BoAkW",
        "executionInfo": {
          "status": "ok",
          "timestamp": 1751015871005,
          "user_tz": -420,
          "elapsed": 20,
          "user": {
            "displayName": "Bastian Feraries Wijaya",
            "userId": "16724100675661699270"
          }
        }
      },
      "execution_count": 63,
      "outputs": []
    },
    {
      "cell_type": "code",
      "source": [
        "label_mapping = {\n",
        "    'pencurian_berat': 0,\n",
        "    'pencurian_biasa': 1\n",
        "}\n",
        "df['label'] = df['kategori_pencurian'].map(label_mapping)"
      ],
      "metadata": {
        "id": "IagLU8_coVpZ",
        "executionInfo": {
          "status": "ok",
          "timestamp": 1751015872746,
          "user_tz": -420,
          "elapsed": 2,
          "user": {
            "displayName": "Bastian Feraries Wijaya",
            "userId": "16724100675661699270"
          }
        }
      },
      "execution_count": 64,
      "outputs": []
    },
    {
      "cell_type": "code",
      "source": [
        "label_encoder = LabelEncoder()\n",
        "df['label'] = label_encoder.fit_transform(df['kategori_pencurian'])"
      ],
      "metadata": {
        "id": "oAxR8LBToWyw",
        "executionInfo": {
          "status": "ok",
          "timestamp": 1751015873730,
          "user_tz": -420,
          "elapsed": 10,
          "user": {
            "displayName": "Bastian Feraries Wijaya",
            "userId": "16724100675661699270"
          }
        }
      },
      "execution_count": 65,
      "outputs": []
    },
    {
      "cell_type": "code",
      "source": [
        "tokenizer = BertTokenizer.from_pretrained('indobenchmark/indobert-base-p2') # bisa dicoba menggunakan model BERT yang lain"
      ],
      "metadata": {
        "colab": {
          "base_uri": "https://localhost:8080/",
          "height": 145,
          "referenced_widgets": [
            "f771eedd9bf14b38a26b555322f7a162",
            "78b6079f99294dc4beddd3148d2935e5",
            "bafc16bb536b40768ba51ee5f63afcc8",
            "af029b3b5efe47ef8838b4fa903715e2",
            "f4a8de8fc1b04fcf977e2755bcd9e866",
            "23d5327887de4cba9a569b0b2f25436b",
            "44a54ff9009747d8876f6e2a961bfc6b",
            "083a4468dccc45aeb314092b8f1bff8e",
            "4b4781dc4b20418da571505ccddc79df",
            "d5d8620b4fb04f50b6b30c13debd89c1",
            "618669daa542475c8c35ac26af595658",
            "45c24ba876ec4ddb868aff611bb0f481",
            "f3a2557e5731418ab4ee693d96725d08",
            "3b27a940fec14f9f88292cb28b9f7338",
            "79318440d4414baf9234f7948ce28319",
            "de2d8f36e77a4693b0994da8815d16aa",
            "b82c1a7da29b4a6e8c7d35e0b17136a5",
            "2014aaf1204c488cbac4bb2ab334ee81",
            "d00282546eee4d2ea20452765b5afbb2",
            "83cf1ca2ec774e5ca5b9e32558861090",
            "0da4c0c3726e4af6936394e74bb60814",
            "af3b7ae554d1429b95ebc81a8ce4ab94",
            "493e6fb76ea64b9eb65a8f25ffd778ea",
            "163ab6a4c56441abacf5c9c03059dab3",
            "715d82b76e0943a9b81870f01775edc4",
            "7691d329f3ed4ed58420bcafea1ea23a",
            "7e61f1162ec5458eb1a74619e993eb6f",
            "fad5f1dde9c1419eaed3959fd453e77e",
            "9d6b3f9c59694fda94aee23f533a5c84",
            "fff044b53bed4bd0ab470c87ffe88526",
            "31efb2cd5afc4015b9f8b7ca396fd1b6",
            "2115ce0572b847a9b82cddfdb993fa79",
            "227cf19ee1a54e89979908fce4b0fe1d",
            "1b28da16f28d43be9500a3bc68acd2bf",
            "d9d91fc55d6c4c778396b0c8cc0d32b1",
            "243a9ce2be77435a95c817a8ba7d5cee",
            "7d6b430b60a642a6a3b511829230c9a1",
            "6680235fc2594e5f9c7db2495b8f0d2f",
            "e17d8c5976ac45c78a1344adc39f6ffa",
            "87b3e5296cf3425e9b8bc35bb6417b52",
            "3d98866697bc4c228398c8c506daca9f",
            "4d039a83003c4e7cbbc3a17930704d73",
            "be2ad80c4e5248eeaed25fabaa3e4d9d",
            "acc8502394b1444c937837c2a4de9a61"
          ]
        },
        "id": "OJXnquMUoYAt",
        "executionInfo": {
          "status": "ok",
          "timestamp": 1751015875487,
          "user_tz": -420,
          "elapsed": 702,
          "user": {
            "displayName": "Bastian Feraries Wijaya",
            "userId": "16724100675661699270"
          }
        },
        "outputId": "7cede031-f0c9-4c8e-b48c-bf3e009bf084"
      },
      "execution_count": 66,
      "outputs": [
        {
          "output_type": "display_data",
          "data": {
            "text/plain": [
              "tokenizer_config.json:   0%|          | 0.00/2.00 [00:00<?, ?B/s]"
            ],
            "application/vnd.jupyter.widget-view+json": {
              "version_major": 2,
              "version_minor": 0,
              "model_id": "f771eedd9bf14b38a26b555322f7a162"
            }
          },
          "metadata": {}
        },
        {
          "output_type": "display_data",
          "data": {
            "text/plain": [
              "vocab.txt: 0.00B [00:00, ?B/s]"
            ],
            "application/vnd.jupyter.widget-view+json": {
              "version_major": 2,
              "version_minor": 0,
              "model_id": "45c24ba876ec4ddb868aff611bb0f481"
            }
          },
          "metadata": {}
        },
        {
          "output_type": "display_data",
          "data": {
            "text/plain": [
              "special_tokens_map.json:   0%|          | 0.00/112 [00:00<?, ?B/s]"
            ],
            "application/vnd.jupyter.widget-view+json": {
              "version_major": 2,
              "version_minor": 0,
              "model_id": "493e6fb76ea64b9eb65a8f25ffd778ea"
            }
          },
          "metadata": {}
        },
        {
          "output_type": "display_data",
          "data": {
            "text/plain": [
              "config.json: 0.00B [00:00, ?B/s]"
            ],
            "application/vnd.jupyter.widget-view+json": {
              "version_major": 2,
              "version_minor": 0,
              "model_id": "1b28da16f28d43be9500a3bc68acd2bf"
            }
          },
          "metadata": {}
        }
      ]
    },
    {
      "cell_type": "code",
      "source": [
        "texts = df['pidana_penjara'].astype(str).tolist()\n",
        "labels = df['label'].tolist()"
      ],
      "metadata": {
        "id": "fnneiqV9ox9o",
        "executionInfo": {
          "status": "ok",
          "timestamp": 1751015877756,
          "user_tz": -420,
          "elapsed": 1,
          "user": {
            "displayName": "Bastian Feraries Wijaya",
            "userId": "16724100675661699270"
          }
        }
      },
      "execution_count": 67,
      "outputs": []
    },
    {
      "cell_type": "code",
      "source": [
        "tokens = tokenizer(\n",
        "    texts,\n",
        "    padding='max_length',\n",
        "    truncation=True,\n",
        "    max_length=256,\n",
        "    return_tensors='np'\n",
        ")"
      ],
      "metadata": {
        "id": "O_M1iup5oy8T",
        "executionInfo": {
          "status": "ok",
          "timestamp": 1751015878940,
          "user_tz": -420,
          "elapsed": 13,
          "user": {
            "displayName": "Bastian Feraries Wijaya",
            "userId": "16724100675661699270"
          }
        }
      },
      "execution_count": 68,
      "outputs": []
    },
    {
      "cell_type": "code",
      "source": [
        "input_ids_tensor = tf.convert_to_tensor(tokens['input_ids'])\n",
        "attention_masks_tensor = tf.convert_to_tensor(tokens['attention_mask'])\n",
        "labels_tensor = tf.convert_to_tensor(labels)"
      ],
      "metadata": {
        "id": "s5EMRPgSo0Ge",
        "executionInfo": {
          "status": "ok",
          "timestamp": 1751015880194,
          "user_tz": -420,
          "elapsed": 2,
          "user": {
            "displayName": "Bastian Feraries Wijaya",
            "userId": "16724100675661699270"
          }
        }
      },
      "execution_count": 69,
      "outputs": []
    },
    {
      "cell_type": "code",
      "source": [
        "X_train_ids, X_test_ids, y_train, y_test = train_test_split(\n",
        "    input_ids_tensor.numpy(), labels_tensor.numpy(), test_size=0.2, random_state=42, stratify=labels_tensor.numpy()\n",
        ")\n",
        "X_train_masks, X_test_masks, _, _ = train_test_split(\n",
        "    attention_masks_tensor.numpy(), labels_tensor.numpy(), test_size=0.2, random_state=42, stratify=labels_tensor.numpy()\n",
        ")"
      ],
      "metadata": {
        "id": "CecDuKaPo1fU",
        "executionInfo": {
          "status": "ok",
          "timestamp": 1751015881003,
          "user_tz": -420,
          "elapsed": 12,
          "user": {
            "displayName": "Bastian Feraries Wijaya",
            "userId": "16724100675661699270"
          }
        }
      },
      "execution_count": 70,
      "outputs": []
    },
    {
      "cell_type": "markdown",
      "source": [
        "klasifikasi"
      ],
      "metadata": {
        "id": "g2JGiFA7qbai"
      }
    },
    {
      "cell_type": "code",
      "source": [
        "class BertLayer(tf.keras.layers.Layer):\n",
        "    def __init__(self, bert_model, **kwargs):\n",
        "        super(BertLayer, self).__init__(**kwargs)\n",
        "        self.bert_model = bert_model\n",
        "\n",
        "    def call(self, inputs):\n",
        "        input_ids, attention_mask = inputs\n",
        "        outputs = self.bert_model(input_ids, attention_mask=attention_mask)\n",
        "        return outputs.last_hidden_state[:, 0, :]\n",
        "\n",
        "bert = TFBertModel.from_pretrained('indobenchmark/indobert-base-p2')\n",
        "\n",
        "for layer in bert.layers:\n",
        "    if isinstance(layer, tf.keras.layers.Layer):\n",
        "        layer.trainable = False\n",
        "\n",
        "input_ids_layer = Input(shape=(256,), dtype=tf.int32, name=\"input_ids\")\n",
        "attention_mask_layer = Input(shape=(256,), dtype=tf.int32, name=\"attention_mask\")\n",
        "\n",
        "bert_layer = BertLayer(bert)\n",
        "\n",
        "outputs = bert_layer([input_ids_layer, attention_mask_layer])\n",
        "\n",
        "# sesuaikan layer dengan kebutuhan atau bisa dicoba untuk eksperimen yang lain\n",
        "x = Dense(128, activation='relu')(outputs)\n",
        "x = Dropout(0.3)(x)\n",
        "x = Dense(64, activation='relu')(x)\n",
        "x = Dropout(0.3)(x)\n",
        "x = Dense(32, activation='relu')(x)\n",
        "x = Dropout(0.3)(x)\n",
        "\n",
        "# Re-initialize and fit the label encoder to ensure it's available\n",
        "label_encoder = LabelEncoder()\n",
        "df['label'] = label_encoder.fit_transform(df['kategori_pencurian'])\n",
        "\n",
        "output = Dense(len(label_encoder.classes_), activation='softmax')(x)\n",
        "\n",
        "model = Model(inputs=[input_ids_layer, attention_mask_layer], outputs=output)\n",
        "model.compile(optimizer=Adam(learning_rate=2e-5), loss='sparse_categorical_crossentropy', metrics=['accuracy'])"
      ],
      "metadata": {
        "colab": {
          "base_uri": "https://localhost:8080/",
          "height": 136,
          "referenced_widgets": [
            "961a0eab02fe4abbb61286d5690646fb",
            "8cdb38b242aa441dbd82d1fbfca12773",
            "cf6371ae0a7743918416ba6c17316604",
            "468832e040fe41f7ac49213373918c65",
            "069a78d1cc33494583adac32bbc86553",
            "a7ad92ff8f51489ea2ddefb19137b190",
            "a703d4fcd6e145c38f70cc9c1152792b",
            "207546ab3f4a4028a898b508e6bf567b",
            "606b8fd4aec741f7a0976d7add07d4fe",
            "c9d04e66ceca4e2f92dc7b3ec6f7aebf",
            "b01793296e7349c4a51f7ec6acbfdfd0"
          ]
        },
        "id": "Q50BocHHqc2x",
        "executionInfo": {
          "status": "ok",
          "timestamp": 1751015902208,
          "user_tz": -420,
          "elapsed": 19518,
          "user": {
            "displayName": "Bastian Feraries Wijaya",
            "userId": "16724100675661699270"
          }
        },
        "outputId": "9ace7e8a-87c2-4564-fda5-3af33ac96c56"
      },
      "execution_count": 71,
      "outputs": [
        {
          "output_type": "display_data",
          "data": {
            "text/plain": [
              "tf_model.h5:   0%|          | 0.00/656M [00:00<?, ?B/s]"
            ],
            "application/vnd.jupyter.widget-view+json": {
              "version_major": 2,
              "version_minor": 0,
              "model_id": "961a0eab02fe4abbb61286d5690646fb"
            }
          },
          "metadata": {}
        },
        {
          "output_type": "stream",
          "name": "stderr",
          "text": [
            "Some layers from the model checkpoint at indobenchmark/indobert-base-p2 were not used when initializing TFBertModel: ['nsp___cls', 'mlm___cls']\n",
            "- This IS expected if you are initializing TFBertModel from the checkpoint of a model trained on another task or with another architecture (e.g. initializing a BertForSequenceClassification model from a BertForPreTraining model).\n",
            "- This IS NOT expected if you are initializing TFBertModel from the checkpoint of a model that you expect to be exactly identical (initializing a BertForSequenceClassification model from a BertForSequenceClassification model).\n",
            "All the layers of TFBertModel were initialized from the model checkpoint at indobenchmark/indobert-base-p2.\n",
            "If your task is similar to the task the model of the checkpoint was trained on, you can already use TFBertModel for predictions without further training.\n"
          ]
        }
      ]
    },
    {
      "cell_type": "code",
      "source": [
        "from tensorflow.keras.callbacks import EarlyStopping\n",
        "\n",
        "early_stop = EarlyStopping(monitor='val_loss', patience=3, restore_best_weights=True)"
      ],
      "metadata": {
        "id": "bUYd403-qhoU",
        "executionInfo": {
          "status": "ok",
          "timestamp": 1751015906836,
          "user_tz": -420,
          "elapsed": 41,
          "user": {
            "displayName": "Bastian Feraries Wijaya",
            "userId": "16724100675661699270"
          }
        }
      },
      "execution_count": 72,
      "outputs": []
    },
    {
      "cell_type": "code",
      "source": [
        "history = model.fit(\n",
        "    x={\"input_ids\": X_train_ids, \"attention_mask\": X_train_masks},\n",
        "    y=y_train,\n",
        "    validation_split=0.1,\n",
        "    epochs=30,\n",
        "    batch_size=16\n",
        ")"
      ],
      "metadata": {
        "colab": {
          "base_uri": "https://localhost:8080/"
        },
        "id": "D4UsHSUiqkYB",
        "executionInfo": {
          "status": "ok",
          "timestamp": 1751017268990,
          "user_tz": -420,
          "elapsed": 1156903,
          "user": {
            "displayName": "Bastian Feraries Wijaya",
            "userId": "16724100675661699270"
          }
        },
        "outputId": "38c4bc50-745d-4136-cb7a-3e207c2db385"
      },
      "execution_count": 74,
      "outputs": [
        {
          "output_type": "stream",
          "name": "stdout",
          "text": [
            "Epoch 1/30\n",
            "\u001b[1m2/2\u001b[0m \u001b[32m\u2501\u2501\u2501\u2501\u2501\u2501\u2501\u2501\u2501\u2501\u2501\u2501\u2501\u2501\u2501\u2501\u2501\u2501\u2501\u2501\u001b[0m\u001b[37m\u001b[0m \u001b[1m22s\u001b[0m 11s/step - accuracy: 0.5805 - loss: 0.9122 - val_accuracy: 0.5000 - val_loss: 0.7206\n",
            "Epoch 2/30\n",
            "\u001b[1m2/2\u001b[0m \u001b[32m\u2501\u2501\u2501\u2501\u2501\u2501\u2501\u2501\u2501\u2501\u2501\u2501\u2501\u2501\u2501\u2501\u2501\u2501\u2501\u2501\u001b[0m\u001b[37m\u001b[0m \u001b[1m41s\u001b[0m 11s/step - accuracy: 0.3384 - loss: 1.0020 - val_accuracy: 0.5000 - val_loss: 0.7197\n",
            "Epoch 3/30\n",
            "\u001b[1m2/2\u001b[0m \u001b[32m\u2501\u2501\u2501\u2501\u2501\u2501\u2501\u2501\u2501\u2501\u2501\u2501\u2501\u2501\u2501\u2501\u2501\u2501\u2501\u2501\u001b[0m\u001b[37m\u001b[0m \u001b[1m44s\u001b[0m 14s/step - accuracy: 0.4447 - loss: 1.1040 - val_accuracy: 0.5000 - val_loss: 0.7202\n",
            "Epoch 4/30\n",
            "\u001b[1m2/2\u001b[0m \u001b[32m\u2501\u2501\u2501\u2501\u2501\u2501\u2501\u2501\u2501\u2501\u2501\u2501\u2501\u2501\u2501\u2501\u2501\u2501\u2501\u2501\u001b[0m\u001b[37m\u001b[0m \u001b[1m38s\u001b[0m 11s/step - accuracy: 0.6408 - loss: 0.7247 - val_accuracy: 0.5000 - val_loss: 0.7209\n",
            "Epoch 5/30\n",
            "\u001b[1m2/2\u001b[0m \u001b[32m\u2501\u2501\u2501\u2501\u2501\u2501\u2501\u2501\u2501\u2501\u2501\u2501\u2501\u2501\u2501\u2501\u2501\u2501\u2501\u2501\u001b[0m\u001b[37m\u001b[0m \u001b[1m40s\u001b[0m 11s/step - accuracy: 0.5093 - loss: 0.8963 - val_accuracy: 0.5000 - val_loss: 0.7221\n",
            "Epoch 6/30\n",
            "\u001b[1m2/2\u001b[0m \u001b[32m\u2501\u2501\u2501\u2501\u2501\u2501\u2501\u2501\u2501\u2501\u2501\u2501\u2501\u2501\u2501\u2501\u2501\u2501\u2501\u2501\u001b[0m\u001b[37m\u001b[0m \u001b[1m44s\u001b[0m 13s/step - accuracy: 0.5093 - loss: 0.9407 - val_accuracy: 0.5000 - val_loss: 0.7238\n",
            "Epoch 7/30\n",
            "\u001b[1m2/2\u001b[0m \u001b[32m\u2501\u2501\u2501\u2501\u2501\u2501\u2501\u2501\u2501\u2501\u2501\u2501\u2501\u2501\u2501\u2501\u2501\u2501\u2501\u2501\u001b[0m\u001b[37m\u001b[0m \u001b[1m39s\u001b[0m 11s/step - accuracy: 0.3987 - loss: 0.9600 - val_accuracy: 0.5000 - val_loss: 0.7262\n",
            "Epoch 8/30\n",
            "\u001b[1m2/2\u001b[0m \u001b[32m\u2501\u2501\u2501\u2501\u2501\u2501\u2501\u2501\u2501\u2501\u2501\u2501\u2501\u2501\u2501\u2501\u2501\u2501\u2501\u2501\u001b[0m\u001b[37m\u001b[0m \u001b[1m40s\u001b[0m 11s/step - accuracy: 0.6013 - loss: 0.7380 - val_accuracy: 0.5000 - val_loss: 0.7272\n",
            "Epoch 9/30\n",
            "\u001b[1m2/2\u001b[0m \u001b[32m\u2501\u2501\u2501\u2501\u2501\u2501\u2501\u2501\u2501\u2501\u2501\u2501\u2501\u2501\u2501\u2501\u2501\u2501\u2501\u2501\u001b[0m\u001b[37m\u001b[0m \u001b[1m41s\u001b[0m 11s/step - accuracy: 0.5553 - loss: 1.0543 - val_accuracy: 0.5000 - val_loss: 0.7264\n",
            "Epoch 10/30\n",
            "\u001b[1m2/2\u001b[0m \u001b[32m\u2501\u2501\u2501\u2501\u2501\u2501\u2501\u2501\u2501\u2501\u2501\u2501\u2501\u2501\u2501\u2501\u2501\u2501\u2501\u2501\u001b[0m\u001b[37m\u001b[0m \u001b[1m40s\u001b[0m 11s/step - accuracy: 0.5532 - loss: 0.8581 - val_accuracy: 0.5000 - val_loss: 0.7253\n",
            "Epoch 11/30\n",
            "\u001b[1m2/2\u001b[0m \u001b[32m\u2501\u2501\u2501\u2501\u2501\u2501\u2501\u2501\u2501\u2501\u2501\u2501\u2501\u2501\u2501\u2501\u2501\u2501\u2501\u2501\u001b[0m\u001b[37m\u001b[0m \u001b[1m42s\u001b[0m 11s/step - accuracy: 0.7076 - loss: 0.7250 - val_accuracy: 0.5000 - val_loss: 0.7223\n",
            "Epoch 12/30\n",
            "\u001b[1m2/2\u001b[0m \u001b[32m\u2501\u2501\u2501\u2501\u2501\u2501\u2501\u2501\u2501\u2501\u2501\u2501\u2501\u2501\u2501\u2501\u2501\u2501\u2501\u2501\u001b[0m\u001b[37m\u001b[0m \u001b[1m24s\u001b[0m 13s/step - accuracy: 0.4425 - loss: 0.9670 - val_accuracy: 0.5000 - val_loss: 0.7192\n",
            "Epoch 13/30\n",
            "\u001b[1m2/2\u001b[0m \u001b[32m\u2501\u2501\u2501\u2501\u2501\u2501\u2501\u2501\u2501\u2501\u2501\u2501\u2501\u2501\u2501\u2501\u2501\u2501\u2501\u2501\u001b[0m\u001b[37m\u001b[0m \u001b[1m24s\u001b[0m 13s/step - accuracy: 0.7328 - loss: 0.5513 - val_accuracy: 0.5000 - val_loss: 0.7170\n",
            "Epoch 14/30\n",
            "\u001b[1m2/2\u001b[0m \u001b[32m\u2501\u2501\u2501\u2501\u2501\u2501\u2501\u2501\u2501\u2501\u2501\u2501\u2501\u2501\u2501\u2501\u2501\u2501\u2501\u2501\u001b[0m\u001b[37m\u001b[0m \u001b[1m39s\u001b[0m 11s/step - accuracy: 0.5553 - loss: 1.1124 - val_accuracy: 0.5000 - val_loss: 0.7154\n",
            "Epoch 15/30\n",
            "\u001b[1m2/2\u001b[0m \u001b[32m\u2501\u2501\u2501\u2501\u2501\u2501\u2501\u2501\u2501\u2501\u2501\u2501\u2501\u2501\u2501\u2501\u2501\u2501\u2501\u2501\u001b[0m\u001b[37m\u001b[0m \u001b[1m40s\u001b[0m 11s/step - accuracy: 0.5783 - loss: 0.7825 - val_accuracy: 0.5000 - val_loss: 0.7141\n",
            "Epoch 16/30\n",
            "\u001b[1m2/2\u001b[0m \u001b[32m\u2501\u2501\u2501\u2501\u2501\u2501\u2501\u2501\u2501\u2501\u2501\u2501\u2501\u2501\u2501\u2501\u2501\u2501\u2501\u2501\u001b[0m\u001b[37m\u001b[0m \u001b[1m42s\u001b[0m 11s/step - accuracy: 0.5072 - loss: 1.0399 - val_accuracy: 0.5000 - val_loss: 0.7117\n",
            "Epoch 17/30\n",
            "\u001b[1m2/2\u001b[0m \u001b[32m\u2501\u2501\u2501\u2501\u2501\u2501\u2501\u2501\u2501\u2501\u2501\u2501\u2501\u2501\u2501\u2501\u2501\u2501\u2501\u2501\u001b[0m\u001b[37m\u001b[0m \u001b[1m40s\u001b[0m 11s/step - accuracy: 0.5575 - loss: 0.9024 - val_accuracy: 0.5000 - val_loss: 0.7095\n",
            "Epoch 18/30\n",
            "\u001b[1m2/2\u001b[0m \u001b[32m\u2501\u2501\u2501\u2501\u2501\u2501\u2501\u2501\u2501\u2501\u2501\u2501\u2501\u2501\u2501\u2501\u2501\u2501\u2501\u2501\u001b[0m\u001b[37m\u001b[0m \u001b[1m41s\u001b[0m 11s/step - accuracy: 0.6430 - loss: 0.6677 - val_accuracy: 0.5000 - val_loss: 0.7077\n",
            "Epoch 19/30\n",
            "\u001b[1m2/2\u001b[0m \u001b[32m\u2501\u2501\u2501\u2501\u2501\u2501\u2501\u2501\u2501\u2501\u2501\u2501\u2501\u2501\u2501\u2501\u2501\u2501\u2501\u2501\u001b[0m\u001b[37m\u001b[0m \u001b[1m41s\u001b[0m 11s/step - accuracy: 0.7974 - loss: 0.5406 - val_accuracy: 0.5000 - val_loss: 0.7055\n",
            "Epoch 20/30\n",
            "\u001b[1m2/2\u001b[0m \u001b[32m\u2501\u2501\u2501\u2501\u2501\u2501\u2501\u2501\u2501\u2501\u2501\u2501\u2501\u2501\u2501\u2501\u2501\u2501\u2501\u2501\u001b[0m\u001b[37m\u001b[0m \u001b[1m41s\u001b[0m 11s/step - accuracy: 0.6659 - loss: 0.6795 - val_accuracy: 0.5000 - val_loss: 0.7030\n",
            "Epoch 21/30\n",
            "\u001b[1m2/2\u001b[0m \u001b[32m\u2501\u2501\u2501\u2501\u2501\u2501\u2501\u2501\u2501\u2501\u2501\u2501\u2501\u2501\u2501\u2501\u2501\u2501\u2501\u2501\u001b[0m\u001b[37m\u001b[0m \u001b[1m41s\u001b[0m 11s/step - accuracy: 0.3800 - loss: 1.2148 - val_accuracy: 0.5000 - val_loss: 0.7001\n",
            "Epoch 22/30\n",
            "\u001b[1m2/2\u001b[0m \u001b[32m\u2501\u2501\u2501\u2501\u2501\u2501\u2501\u2501\u2501\u2501\u2501\u2501\u2501\u2501\u2501\u2501\u2501\u2501\u2501\u2501\u001b[0m\u001b[37m\u001b[0m \u001b[1m43s\u001b[0m 13s/step - accuracy: 0.6451 - loss: 0.8620 - val_accuracy: 0.5000 - val_loss: 0.6974\n",
            "Epoch 23/30\n",
            "\u001b[1m2/2\u001b[0m \u001b[32m\u2501\u2501\u2501\u2501\u2501\u2501\u2501\u2501\u2501\u2501\u2501\u2501\u2501\u2501\u2501\u2501\u2501\u2501\u2501\u2501\u001b[0m\u001b[37m\u001b[0m \u001b[1m21s\u001b[0m 11s/step - accuracy: 0.5783 - loss: 0.6267 - val_accuracy: 0.7500 - val_loss: 0.6949\n",
            "Epoch 24/30\n",
            "\u001b[1m2/2\u001b[0m \u001b[32m\u2501\u2501\u2501\u2501\u2501\u2501\u2501\u2501\u2501\u2501\u2501\u2501\u2501\u2501\u2501\u2501\u2501\u2501\u2501\u2501\u001b[0m\u001b[37m\u001b[0m \u001b[1m49s\u001b[0m 17s/step - accuracy: 0.7536 - loss: 0.6375 - val_accuracy: 0.7500 - val_loss: 0.6915\n",
            "Epoch 25/30\n",
            "\u001b[1m2/2\u001b[0m \u001b[32m\u2501\u2501\u2501\u2501\u2501\u2501\u2501\u2501\u2501\u2501\u2501\u2501\u2501\u2501\u2501\u2501\u2501\u2501\u2501\u2501\u001b[0m\u001b[37m\u001b[0m \u001b[1m34s\u001b[0m 12s/step - accuracy: 0.6659 - loss: 0.6660 - val_accuracy: 0.7500 - val_loss: 0.6893\n",
            "Epoch 26/30\n",
            "\u001b[1m2/2\u001b[0m \u001b[32m\u2501\u2501\u2501\u2501\u2501\u2501\u2501\u2501\u2501\u2501\u2501\u2501\u2501\u2501\u2501\u2501\u2501\u2501\u2501\u2501\u001b[0m\u001b[37m\u001b[0m \u001b[1m40s\u001b[0m 11s/step - accuracy: 0.5302 - loss: 0.7854 - val_accuracy: 0.7500 - val_loss: 0.6868\n",
            "Epoch 27/30\n",
            "\u001b[1m2/2\u001b[0m \u001b[32m\u2501\u2501\u2501\u2501\u2501\u2501\u2501\u2501\u2501\u2501\u2501\u2501\u2501\u2501\u2501\u2501\u2501\u2501\u2501\u2501\u001b[0m\u001b[37m\u001b[0m \u001b[1m40s\u001b[0m 11s/step - accuracy: 0.5575 - loss: 0.9979 - val_accuracy: 0.7500 - val_loss: 0.6839\n",
            "Epoch 28/30\n",
            "\u001b[1m2/2\u001b[0m \u001b[32m\u2501\u2501\u2501\u2501\u2501\u2501\u2501\u2501\u2501\u2501\u2501\u2501\u2501\u2501\u2501\u2501\u2501\u2501\u2501\u2501\u001b[0m\u001b[37m\u001b[0m \u001b[1m44s\u001b[0m 13s/step - accuracy: 0.4468 - loss: 0.9417 - val_accuracy: 0.7500 - val_loss: 0.6813\n",
            "Epoch 29/30\n",
            "\u001b[1m2/2\u001b[0m \u001b[32m\u2501\u2501\u2501\u2501\u2501\u2501\u2501\u2501\u2501\u2501\u2501\u2501\u2501\u2501\u2501\u2501\u2501\u2501\u2501\u2501\u001b[0m\u001b[37m\u001b[0m \u001b[1m23s\u001b[0m 13s/step - accuracy: 0.5783 - loss: 0.7535 - val_accuracy: 0.7500 - val_loss: 0.6788\n",
            "Epoch 30/30\n",
            "\u001b[1m2/2\u001b[0m \u001b[32m\u2501\u2501\u2501\u2501\u2501\u2501\u2501\u2501\u2501\u2501\u2501\u2501\u2501\u2501\u2501\u2501\u2501\u2501\u2501\u2501\u001b[0m\u001b[37m\u001b[0m \u001b[1m39s\u001b[0m 11s/step - accuracy: 0.6221 - loss: 0.8196 - val_accuracy: 0.7500 - val_loss: 0.6760\n"
          ]
        }
      ]
    },
    {
      "cell_type": "code",
      "source": [
        "y_pred_probs = model.predict({\"input_ids\": X_test_ids, \"attention_mask\": X_test_masks})\n",
        "y_pred = np.argmax(y_pred_probs, axis=1)\n",
        "\n",
        "accuracy = accuracy_score(y_test, y_pred)\n",
        "\n",
        "print(f\"Accuracy: {accuracy * 100:.2f}%\")"
      ],
      "metadata": {
        "colab": {
          "base_uri": "https://localhost:8080/"
        },
        "id": "jfMhmJS3qnUs",
        "executionInfo": {
          "status": "ok",
          "timestamp": 1751017286576,
          "user_tz": -420,
          "elapsed": 10298,
          "user": {
            "displayName": "Bastian Feraries Wijaya",
            "userId": "16724100675661699270"
          }
        },
        "outputId": "87a60718-30ff-4700-dfad-8fa59af2bd05"
      },
      "execution_count": 75,
      "outputs": [
        {
          "output_type": "stream",
          "name": "stdout",
          "text": [
            "\u001b[1m1/1\u001b[0m \u001b[32m\u2501\u2501\u2501\u2501\u2501\u2501\u2501\u2501\u2501\u2501\u2501\u2501\u2501\u2501\u2501\u2501\u2501\u2501\u2501\u2501\u001b[0m\u001b[37m\u001b[0m \u001b[1m8s\u001b[0m 8s/step\n",
            "Accuracy: 77.78%\n"
          ]
        }
      ]
    },
    {
      "cell_type": "code",
      "source": [
        "y_pred = model.predict({\n",
        "    \"input_ids\": X_test_ids,\n",
        "    \"attention_mask\": X_test_masks\n",
        "})\n",
        "y_pred_labels = np.argmax(y_pred, axis=1)\n",
        "\n",
        "print(\"Classification Report:\")\n",
        "if len(np.unique(y_test)) == len(label_encoder.classes_):\n",
        "    print(classification_report(y_test, y_pred_labels, target_names=label_encoder.classes_))\n",
        "else:\n",
        "    print(classification_report(y_test, y_pred_labels))"
      ],
      "metadata": {
        "colab": {
          "base_uri": "https://localhost:8080/"
        },
        "id": "BHadKvdPqqze",
        "executionInfo": {
          "status": "ok",
          "timestamp": 1751017298287,
          "user_tz": -420,
          "elapsed": 5548,
          "user": {
            "displayName": "Bastian Feraries Wijaya",
            "userId": "16724100675661699270"
          }
        },
        "outputId": "988f94e6-92d0-4423-8457-38ececf9ecce"
      },
      "execution_count": 76,
      "outputs": [
        {
          "output_type": "stream",
          "name": "stdout",
          "text": [
            "\u001b[1m1/1\u001b[0m \u001b[32m\u2501\u2501\u2501\u2501\u2501\u2501\u2501\u2501\u2501\u2501\u2501\u2501\u2501\u2501\u2501\u2501\u2501\u2501\u2501\u2501\u001b[0m\u001b[37m\u001b[0m \u001b[1m5s\u001b[0m 5s/step\n",
            "Classification Report:\n",
            "                 precision    recall  f1-score   support\n",
            "\n",
            "pencurian_berat       0.78      1.00      0.88         7\n",
            "pencurian_biasa       0.00      0.00      0.00         2\n",
            "\n",
            "       accuracy                           0.78         9\n",
            "      macro avg       0.39      0.50      0.44         9\n",
            "   weighted avg       0.60      0.78      0.68         9\n",
            "\n"
          ]
        },
        {
          "output_type": "stream",
          "name": "stderr",
          "text": [
            "/usr/local/lib/python3.11/dist-packages/sklearn/metrics/_classification.py:1565: UndefinedMetricWarning: Precision is ill-defined and being set to 0.0 in labels with no predicted samples. Use `zero_division` parameter to control this behavior.\n",
            "  _warn_prf(average, modifier, f\"{metric.capitalize()} is\", len(result))\n",
            "/usr/local/lib/python3.11/dist-packages/sklearn/metrics/_classification.py:1565: UndefinedMetricWarning: Precision is ill-defined and being set to 0.0 in labels with no predicted samples. Use `zero_division` parameter to control this behavior.\n",
            "  _warn_prf(average, modifier, f\"{metric.capitalize()} is\", len(result))\n",
            "/usr/local/lib/python3.11/dist-packages/sklearn/metrics/_classification.py:1565: UndefinedMetricWarning: Precision is ill-defined and being set to 0.0 in labels with no predicted samples. Use `zero_division` parameter to control this behavior.\n",
            "  _warn_prf(average, modifier, f\"{metric.capitalize()} is\", len(result))\n"
          ]
        }
      ]
    },
    {
      "cell_type": "code",
      "source": [
        "cm = confusion_matrix(y_test, y_pred_labels)\n",
        "sns.heatmap(cm, annot=True, fmt='d', xticklabels=label_encoder.classes_, yticklabels=label_encoder.classes_, cmap='Blues')\n",
        "plt.xlabel('Predicted')\n",
        "plt.ylabel('True')\n",
        "plt.title('Confusion Matrix')\n",
        "plt.show()"
      ],
      "metadata": {
        "colab": {
          "base_uri": "https://localhost:8080/",
          "height": 472
        },
        "id": "no54wNDrqtdT",
        "executionInfo": {
          "status": "ok",
          "timestamp": 1751017308249,
          "user_tz": -420,
          "elapsed": 267,
          "user": {
            "displayName": "Bastian Feraries Wijaya",
            "userId": "16724100675661699270"
          }
        },
        "outputId": "0f46b1ae-90e4-419d-e449-79809f5971b8"
      },
      "execution_count": 77,
      "outputs": [
        {
          "output_type": "display_data",
          "data": {
            "text/plain": [
              "<Figure size 640x480 with 2 Axes>"
            ],
            "image/png": "[encoded data removed]"
          },
          "metadata": {}
        }
      ]
    },
    {
      "cell_type": "code",
      "source": [
        "plt.figure(figsize=(12, 5))\n",
        "\n",
        "plt.subplot(1, 2, 1)\n",
        "plt.plot(history.history['accuracy'], label='Train Accuracy')\n",
        "plt.plot(history.history['val_accuracy'], label='Validation Accuracy')\n",
        "plt.xlabel('Epoch')\n",
        "plt.ylabel('Accuracy')\n",
        "plt.legend()\n",
        "plt.title('Model Accuracy')\n",
        "\n",
        "plt.subplot(1, 2, 2)\n",
        "plt.plot(history.history['loss'], label='Train Loss')\n",
        "plt.plot(history.history['val_loss'], label='Validation Loss')\n",
        "plt.xlabel('Epoch')\n",
        "plt.ylabel('Loss')\n",
        "plt.legend()\n",
        "plt.title('Model Loss')\n",
        "\n",
        "plt.tight_layout()\n",
        "plt.show()"
      ],
      "metadata": {
        "colab": {
          "base_uri": "https://localhost:8080/",
          "height": 507
        },
        "id": "dynOrqzQqvAg",
        "executionInfo": {
          "status": "ok",
          "timestamp": 1751017311399,
          "user_tz": -420,
          "elapsed": 389,
          "user": {
            "displayName": "Bastian Feraries Wijaya",
            "userId": "16724100675661699270"
          }
        },
        "outputId": "f456f281-3359-4856-8fd6-b7315e5571da"
      },
      "execution_count": 78,
      "outputs": [
        {
          "output_type": "display_data",
          "data": {
            "text/plain": [
              "<Figure size 1200x500 with 2 Axes>"
            ],
            "image/png": "[encoded data removed]"
          },
          "metadata": {}
        }
      ]
    },
    {
      "cell_type": "code",
      "source": [
        "kategori_mapping = {\n",
        "    'pencurian_berat': 0,\n",
        "    'pencurian_biasa': 1,\n",
        "    'lainnya': 2\n",
        "}\n",
        "\n",
        "index_to_kategori = {v: k for k, v in kategori_mapping.items()}\n",
        "\n",
        "kategori_to_pidana = {\n",
        "    'pencurian_berat': '5 bulan-2 tahun',\n",
        "    'pencurian_biasa': '5 bulan-1 tahun'\n",
        "}\n",
        "\n",
        "def predict_text(text):\n",
        "    tokens = tokenizer(\n",
        "        [text],\n",
        "        padding='max_length',\n",
        "        truncation=True,\n",
        "        max_length=256,\n",
        "        return_tensors='np'\n",
        "    )\n",
        "\n",
        "    preds = model.predict({\n",
        "        \"input_ids\": tokens[\"input_ids\"],\n",
        "        \"attention_mask\": tokens[\"attention_mask\"]\n",
        "    })\n",
        "\n",
        "    pred_class = np.argmax(preds, axis=1)[0]\n",
        "    probability = preds[0][pred_class]\n",
        "\n",
        "    kategori_pred = index_to_kategori.get(pred_class, \"Kategori Tidak Diketahui\")\n",
        "    pidana_penjara = kategori_to_pidana.get(kategori_pred, \"Tidak diketahui\")\n",
        "\n",
        "    return kategori_pred, pidana_penjara, probability\n",
        "\n",
        "# \u2190 ini harus di luar fungsi\n",
        "text_uji = \"(terbukti secara sah dan meyakinkan bersalah melakukan tindak pidana pencurian dalam keadaan memberatkan)\"\n",
        "kategori, pidana, akurasi = predict_text(text_uji)\n",
        "\n",
        "print(f\"Hasil Prediksi: {kategori}\")\n",
        "print(f\"Estimasi Hukuman yang Didapatkan: {pidana}\")\n",
        "print(f\"Akurasi Prediksi: {akurasi * 100:.2f}%\")\n"
      ],
      "metadata": {
        "colab": {
          "base_uri": "https://localhost:8080/"
        },
        "id": "pT556WIGqwN3",
        "executionInfo": {
          "status": "ok",
          "timestamp": 1751017328563,
          "user_tz": -420,
          "elapsed": 5185,
          "user": {
            "displayName": "Bastian Feraries Wijaya",
            "userId": "16724100675661699270"
          }
        },
        "outputId": "d74fcf71-2409-4ae9-ab4f-cc3f10596fb1"
      },
      "execution_count": 79,
      "outputs": [
        {
          "output_type": "stream",
          "name": "stdout",
          "text": [
            "\u001b[1m1/1\u001b[0m \u001b[32m\u2501\u2501\u2501\u2501\u2501\u2501\u2501\u2501\u2501\u2501\u2501\u2501\u2501\u2501\u2501\u2501\u2501\u2501\u2501\u2501\u001b[0m\u001b[37m\u001b[0m \u001b[1m3s\u001b[0m 3s/step\n",
            "Hasil Prediksi: pencurian_berat\n",
            "Estimasi Hukuman yang Didapatkan: 5 bulan-2 tahun\n",
            "Akurasi Prediksi: 76.61%\n"
          ]
        }
      ]
    },
    {
      "cell_type": "markdown",
      "source": [
        "#TAHAP 5"
      ],
      "metadata": {
        "id": "KwP-kEWWj72o"
      }
    },
    {
      "cell_type": "code",
      "source": [
        "from sklearn.metrics import precision_score, recall_score, f1_score, accuracy_score\n",
        "\n",
        "def eval_retrieval(queries, k=5):\n",
        "    correct = 0\n",
        "    total = len(queries)\n",
        "    y_true = []\n",
        "    y_pred = []\n",
        "\n",
        "    for q in queries:\n",
        "        top_k = retrieve(q['query'], k=k)\n",
        "        top_ids = [cid for cid, _ in top_k]\n",
        "\n",
        "        # Ground-truth dan prediksi: 1 jika hit, 0 jika miss\n",
        "        is_hit = int(q['case_id'] in top_ids)\n",
        "        y_true.append(1)\n",
        "        y_pred.append(is_hit)\n",
        "        correct += is_hit\n",
        "\n",
        "    accuracy = accuracy_score(y_true, y_pred)\n",
        "    precision = precision_score(y_true, y_pred, zero_division=0)\n",
        "    recall = recall_score(y_true, y_pred, zero_division=0)\n",
        "    f1 = f1_score(y_true, y_pred, zero_division=0)\n",
        "\n",
        "    # Simpan ke CSV\n",
        "    df_metrics = pd.DataFrame([{\n",
        "        \"model\": \"BERT-base-p2\",\n",
        "        \"top_k\": k,\n",
        "        \"accuracy\": accuracy,\n",
        "        \"precision\": precision,\n",
        "        \"recall\": recall,\n",
        "        \"f1_score\": f1\n",
        "    }])\n",
        "\n",
        "    eval_path = \"/content/drive/MyDrive/penalaran_uas/data/eval/retrieval_metrics.csv\"\n",
        "    df_metrics.to_csv(eval_path, index=False)\n",
        "    print(f\"\u2705 retrieval_metrics.csv tersimpan di: {eval_path}\")\n",
        "\n",
        "    return df_metrics\n"
      ],
      "metadata": {
        "id": "se9qV2Zjj-pK",
        "executionInfo": {
          "status": "ok",
          "timestamp": 1751018819933,
          "user_tz": -420,
          "elapsed": 2,
          "user": {
            "displayName": "Bastian Feraries Wijaya",
            "userId": "16724100675661699270"
          }
        }
      },
      "execution_count": 134,
      "outputs": []
    },
    {
      "cell_type": "code",
      "source": [
        "with open(\"/content/drive/MyDrive/penalaran_uas/data/eval/queries.json\") as f:\n",
        "    queries = json.load(f)\n",
        "\n",
        "df_eval = eval_retrieval(queries, k=5)\n",
        "print(df_eval)\n"
      ],
      "metadata": {
        "id": "WFniTnb_kIQw"
      },
      "execution_count": null,
      "outputs": []
    },
    {
      "cell_type": "code",
      "source": [
        "def eval_prediction(queries):\n",
        "    y_true = []\n",
        "    y_pred = []\n",
        "\n",
        "    for q in queries:\n",
        "        pred, _, _ = predict_penjara_from_query(q['query'])\n",
        "        y_true.append(q.get('label', 'Tidak diketahui'))\n",
        "        y_pred.append(pred)\n",
        "\n",
        "    df = pd.DataFrame({\"y_true\": y_true, \"y_pred\": y_pred})\n",
        "    df = df[df['y_true'] != \"Tidak diketahui\"]\n",
        "\n",
        "    acc = accuracy_score(df['y_true'], df['y_pred'])\n",
        "    f1 = f1_score(df['y_true'], df['y_pred'], average='macro', zero_division=0)\n",
        "    precision = precision_score(df['y_true'], df['y_pred'], average='macro', zero_division=0)\n",
        "    recall = recall_score(df['y_true'], df['y_pred'], average='macro', zero_division=0)\n",
        "\n",
        "    df_metrics = pd.DataFrame([{\n",
        "        \"model\": \"CBR-BERT (vote)\",\n",
        "        \"accuracy\": acc,\n",
        "        \"precision\": precision,\n",
        "        \"recall\": recall,\n",
        "        \"f1_score\": f1\n",
        "    }])\n",
        "\n",
        "    eval_path = \"/content/drive/MyDrive/penalaran_uas/data/eval/prediction_metrics.csv\"\n",
        "    df_metrics.to_csv(eval_path, index=False)\n",
        "    print(f\"\u2705 prediction_metrics.csv tersimpan di: {eval_path}\")\n",
        "\n",
        "    return df_metrics\n"
      ],
      "metadata": {
        "id": "vYZZbJ1Clix0",
        "executionInfo": {
          "status": "ok",
          "timestamp": 1751018825521,
          "user_tz": -420,
          "elapsed": 8,
          "user": {
            "displayName": "Bastian Feraries Wijaya",
            "userId": "16724100675661699270"
          }
        }
      },
      "execution_count": 136,
      "outputs": []
    },
    {
      "cell_type": "code",
      "source": [
        "import os\n",
        "import pandas as pd\n",
        "from sklearn.metrics import classification_report, accuracy_score, f1_score, precision_score, recall_score\n",
        "\n",
        "def eval_prediction(queries):\n",
        "    y_true = []\n",
        "    y_pred = []\n",
        "\n",
        "    for q in queries:\n",
        "        true_label = q.get(\"label\")\n",
        "        if not true_label:\n",
        "            continue\n",
        "\n",
        "        pred_label, _, _ = predict_penjara_from_query(q['query'])\n",
        "        y_true.append(true_label)\n",
        "        y_pred.append(pred_label)\n",
        "\n",
        "    if not y_true:\n",
        "        print(\"\u274c Tidak ada label ground truth pada queries!\")\n",
        "        return pd.DataFrame()\n",
        "\n",
        "    acc = accuracy_score(y_true, y_pred)\n",
        "    f1 = f1_score(y_true, y_pred, average='macro', zero_division=0)\n",
        "    precision = precision_score(y_true, y_pred, average='macro', zero_division=0)\n",
        "    recall = recall_score(y_true, y_pred, average='macro', zero_division=0)\n",
        "\n",
        "    df_metrics = pd.DataFrame([{\n",
        "        \"model\": \"CBR-BERT (vote)\",\n",
        "        \"accuracy\": acc,\n",
        "        \"precision\": precision,\n",
        "        \"recall\": recall,\n",
        "        \"f1_score\": f1\n",
        "    }])\n",
        "\n",
        "    # Buat folder jika belum ada\n",
        "    os.makedirs(\"/content/drive/MyDrive/penalaran_uas/data/eval\", exist_ok=True)\n",
        "    save_path = \"/content/drive/MyDrive/penalaran_uas/data/eval/prediction_metrics.csv\"\n",
        "    df_metrics.to_csv(save_path, index=False)\n",
        "    print(f\"\u2705 prediction_metrics.csv tersimpan di: {save_path}\")\n",
        "\n",
        "    return df_metrics\n"
      ],
      "metadata": {
        "id": "HW2PmIcAl-bE",
        "executionInfo": {
          "status": "ok",
          "timestamp": 1751018829873,
          "user_tz": -420,
          "elapsed": 2,
          "user": {
            "displayName": "Bastian Feraries Wijaya",
            "userId": "16724100675661699270"
          }
        }
      },
      "execution_count": 137,
      "outputs": []
    },
    {
      "cell_type": "markdown",
      "source": [
        "SVM"
      ],
      "metadata": {
        "id": "How8C_J5rDIf"
      }
    },
    {
      "cell_type": "code",
      "source": [
        "# 1. Import library\n",
        "import pandas as pd\n",
        "from sklearn.model_selection import train_test_split\n",
        "from sklearn.feature_extraction.text import TfidfVectorizer\n",
        "from sklearn.svm import LinearSVC\n",
        "from sklearn.preprocessing import LabelEncoder\n",
        "from sklearn.metrics import classification_report, accuracy_score\n",
        "\n",
        "# 2. Load dataset\n",
        "file_path = \"/content/drive/MyDrive/penalaran_uas/data/processed/cases.csv\"\n",
        "df = pd.read_csv(file_path)\n",
        "X_text = df['jenis_pencurian'].astype(str)\n",
        "y_label = df['kategori_pencurian'].astype(str)\n",
        "\n",
        "# 3. Vektorisasi teks (TF-IDF)\n",
        "vectorizer = TfidfVectorizer(lowercase=True, stop_words=None, max_features=1000)\n",
        "X_vector = vectorizer.fit_transform(X_text)\n",
        "\n",
        "# 4. Encode label\n",
        "le = LabelEncoder()\n",
        "y_encoded = le.fit_transform(y_label)\n",
        "\n",
        "# 5. Split data\n",
        "X_train, X_test, y_train, y_test = train_test_split(\n",
        "    X_vector, y_encoded, test_size=0.2, random_state=42, stratify=y_encoded\n",
        ")\n",
        "\n",
        "# 6. Latih model SVM\n",
        "svm_model = LinearSVC()\n",
        "svm_model.fit(X_train, y_train)\n",
        "\n",
        "# 7. Evaluasi (opsional)\n",
        "y_pred = svm_model.predict(X_test)\n",
        "print(\"Akurasi:\", accuracy_score(y_test, y_pred))\n",
        "labels_all = list(range(len(le.classes_)))\n",
        "print(\"\\nLaporan Klasifikasi:\\n\", classification_report(\n",
        "    y_test, y_pred,\n",
        "    labels=labels_all,\n",
        "    target_names=le.classes_,\n",
        "    zero_division=0\n",
        "))\n",
        "\n",
        "\n",
        "# 8. Fungsi prediksi kasus baru\n",
        "def predict_svm(text, vectorizer, model, label_encoder):\n",
        "    vec = vectorizer.transform([text])\n",
        "    pred = model.predict(vec)\n",
        "    pred_label = label_encoder.inverse_transform(pred)[0]\n",
        "    return pred_label\n",
        "\n",
        "# 9. Mapping kategori ke estimasi hukuman\n",
        "kategori_to_pidana = {\n",
        "    'pencurian_berat': '2 tahun',\n",
        "    'pencurian_biasa': '1 tahun',\n",
        "\n",
        "}\n",
        "\n",
        "# 10. Uji prediksi pada kasus baru\n",
        "kasus_baru = \"terdakwa melakukan tindak pidana pencurian dalam keadaan memberatkan\"\n",
        "pred_kategori = predict_svm(kasus_baru, vectorizer, svm_model, le)\n",
        "estimasi_hukuman = kategori_to_pidana.get(pred_kategori, \"Tidak diketahui\")\n",
        "\n",
        "# 11. Tampilkan hasil\n",
        "print(\"Kasus Baru:\", kasus_baru)\n",
        "print(\"Kategori Prediksi:\", pred_kategori)\n",
        "print(\"Estimasi Hukuman:\", estimasi_hukuman)\n"
      ],
      "metadata": {
        "id": "7fZ06lzkq61z",
        "colab": {
          "base_uri": "https://localhost:8080/"
        },
        "executionInfo": {
          "status": "ok",
          "timestamp": 1751018957152,
          "user_tz": -420,
          "elapsed": 40,
          "user": {
            "displayName": "Bastian Feraries Wijaya",
            "userId": "16724100675661699270"
          }
        },
        "outputId": "4a2141d2-21b7-4724-d31c-167280ad185c"
      },
      "execution_count": 139,
      "outputs": [
        {
          "output_type": "stream",
          "name": "stdout",
          "text": [
            "Akurasi: 1.0\n",
            "\n",
            "Laporan Klasifikasi:\n",
            "                  precision    recall  f1-score   support\n",
            "\n",
            "pencurian_berat       1.00      1.00      1.00         7\n",
            "pencurian_biasa       1.00      1.00      1.00         2\n",
            "\n",
            "       accuracy                           1.00         9\n",
            "      macro avg       1.00      1.00      1.00         9\n",
            "   weighted avg       1.00      1.00      1.00         9\n",
            "\n",
            "Kasus Baru: terdakwa melakukan tindak pidana pencurian dalam keadaan memberatkan\n",
            "Kategori Prediksi: pencurian_berat\n",
            "Estimasi Hukuman: 2 tahun\n"
          ]
        }
      ]
    },
    {
      "cell_type": "code",
      "source": [
        "# 1. Import library\n",
        "import pandas as pd\n",
        "from sklearn.model_selection import train_test_split\n",
        "from sklearn.feature_extraction.text import TfidfVectorizer\n",
        "from sklearn.svm import LinearSVC\n",
        "from sklearn.preprocessing import LabelEncoder\n",
        "from sklearn.metrics import classification_report, accuracy_score\n",
        "\n",
        "# 2. Load data\n",
        "file_path =  \"/content/drive/MyDrive/penalaran_uas/data/processed/cases.csv\"\n",
        "df = pd.read_csv(file_path)\n",
        "X_text = df['jenis_pencurian'].astype(str)\n",
        "y_label = df['kategori_pencurian'].astype(str)\n",
        "\n",
        "\n",
        "\n",
        "# 3. Encode label\n",
        "le = LabelEncoder()\n",
        "y_encoded = le.fit_transform(y_label)\n",
        "\n",
        "# 4. Split data\n",
        "X_train_text, X_test_text, y_train, y_test = train_test_split(\n",
        "    X_text, y_encoded, test_size=0.2, random_state=42, stratify=y_encoded\n",
        ")\n",
        "\n",
        "\n",
        "\n",
        "# ------------------ SVM ------------------\n",
        "\n",
        "# 5. TF-IDF vectorization\n",
        "tfidf_vectorizer = TfidfVectorizer(max_features=1000)\n",
        "X_train_tfidf = tfidf_vectorizer.fit_transform(X_train_text)\n",
        "X_test_tfidf = tfidf_vectorizer.transform(X_test_text)\n",
        "\n",
        "# 6. Train SVM\n",
        "svm_model = LinearSVC()\n",
        "svm_model.fit(X_train_tfidf, y_train)\n",
        "y_pred_svm = svm_model.predict(X_test_tfidf)\n",
        "\n",
        "# 7. Evaluate SVM\n",
        "print(\"=== SVM Evaluation ===\")\n",
        "print(\"Accuracy:\", accuracy_score(y_test, y_pred_svm))\n",
        "print(classification_report(y_test, y_pred_svm, target_names=le.classes_, zero_division=0))\n",
        "\n",
        "labels_all = list(range(len(le.classes_)))\n",
        "print(classification_report(\n",
        "    y_test, y_pred_svm,\n",
        "    labels=labels_all,\n",
        "    target_names=le.classes_,\n",
        "    zero_division=0\n",
        "))\n",
        "\n",
        "# ------------------ BERT ------------------\n",
        "\n",
        "from transformers import AutoTokenizer, TFAutoModelForSequenceClassification\n",
        "import numpy as np\n",
        "import tensorflow as tf\n",
        "\n",
        "# 8. Load tokenizer & model\n",
        "tokenizer = AutoTokenizer.from_pretrained(\"indobenchmark/indobert-base-p2\")\n",
        "bert_model = TFAutoModelForSequenceClassification.from_pretrained(\"indobenchmark/indobert-base-p2\", num_labels=3)\n",
        "\n",
        "# (Asumsinya model sudah dilatih, kalau belum, latih dulu)\n",
        "\n",
        "# 9. Tokenize data\n",
        "def encode_bert(texts):\n",
        "    return tokenizer(\n",
        "        texts.tolist(), padding=True, truncation=True, max_length=256, return_tensors='tf'\n",
        "    )\n",
        "\n",
        "X_test_bert = encode_bert(X_test_text)\n",
        "\n",
        "\n",
        "\n",
        "# 10. Predict with BERT\n",
        "preds = bert_model.predict(X_test_bert).logits\n",
        "y_pred_bert = np.argmax(preds, axis=1)\n",
        "\n",
        "# 11. Evaluate BERT\n",
        "print(\"=== BERT Evaluation ===\")\n",
        "print(\"Accuracy:\", accuracy_score(y_test, y_pred_bert))\n",
        "print(classification_report(\n",
        "    y_test, y_pred_bert,\n",
        "    labels=labels_all,\n",
        "    target_names=le.classes_,\n",
        "    zero_division=0\n",
        "))\n"
      ],
      "metadata": {
        "colab": {
          "base_uri": "https://localhost:8080/"
        },
        "id": "tynWcBuj3wr2",
        "executionInfo": {
          "status": "ok",
          "timestamp": 1751019123464,
          "user_tz": -420,
          "elapsed": 13383,
          "user": {
            "displayName": "Bastian Feraries Wijaya",
            "userId": "16724100675661699270"
          }
        },
        "outputId": "4408623f-e193-4550-97e1-9e129ff0c46c"
      },
      "execution_count": 143,
      "outputs": [
        {
          "output_type": "stream",
          "name": "stdout",
          "text": [
            "=== SVM Evaluation ===\n",
            "Accuracy: 1.0\n",
            "                 precision    recall  f1-score   support\n",
            "\n",
            "pencurian_berat       1.00      1.00      1.00         7\n",
            "pencurian_biasa       1.00      1.00      1.00         2\n",
            "\n",
            "       accuracy                           1.00         9\n",
            "      macro avg       1.00      1.00      1.00         9\n",
            "   weighted avg       1.00      1.00      1.00         9\n",
            "\n",
            "                 precision    recall  f1-score   support\n",
            "\n",
            "pencurian_berat       1.00      1.00      1.00         7\n",
            "pencurian_biasa       1.00      1.00      1.00         2\n",
            "\n",
            "       accuracy                           1.00         9\n",
            "      macro avg       1.00      1.00      1.00         9\n",
            "   weighted avg       1.00      1.00      1.00         9\n",
            "\n"
          ]
        },
        {
          "output_type": "stream",
          "name": "stderr",
          "text": [
            "All model checkpoint layers were used when initializing TFBertForSequenceClassification.\n",
            "\n",
            "Some layers of TFBertForSequenceClassification were not initialized from the model checkpoint at indobenchmark/indobert-base-p2 and are newly initialized: ['classifier']\n",
            "You should probably TRAIN this model on a down-stream task to be able to use it for predictions and inference.\n"
          ]
        },
        {
          "output_type": "stream",
          "name": "stdout",
          "text": [
            "1/1 [==============================] - 5s 5s/step\n",
            "=== BERT Evaluation ===\n",
            "Accuracy: 0.7777777777777778\n",
            "                 precision    recall  f1-score   support\n",
            "\n",
            "pencurian_berat       0.78      1.00      0.88         7\n",
            "pencurian_biasa       0.00      0.00      0.00         2\n",
            "\n",
            "       accuracy                           0.78         9\n",
            "      macro avg       0.39      0.50      0.44         9\n",
            "   weighted avg       0.60      0.78      0.68         9\n",
            "\n"
          ]
        }
      ]
    },
    {
      "cell_type": "code",
      "source": [
        "# 1. Simpan nilai akurasi\n",
        "svm_accuracy = accuracy_score(y_test, y_pred_svm)\n",
        "bert_accuracy = accuracy_score(y_test, y_pred_bert)\n",
        "\n",
        "# 2. Tampilkan nilai akurasi\n",
        "print(f\"\\nPerbandingan Akurasi:\")\n",
        "print(f\"SVM  : {svm_accuracy * 100:.2f}%\")\n",
        "print(f\"BERT : {bert_accuracy * 100:.2f}%\")\n",
        "\n",
        "# 3. Visualisasi perbandingan akurasi\n",
        "import matplotlib.pyplot as plt\n",
        "\n",
        "models = ['SVM', 'BERT']\n",
        "accuracies = [svm_accuracy * 100, bert_accuracy * 100]\n",
        "\n",
        "plt.figure(figsize=(6, 4))\n",
        "bars = plt.bar(models, accuracies, color=['skyblue', 'orange'])\n",
        "\n",
        "# Tambahkan label nilai di atas bar\n",
        "for bar in bars:\n",
        "    height = bar.get_height()\n",
        "    plt.text(bar.get_x() + bar.get_width()/2.0, height, f'{height:.2f}%', ha='center', va='bottom')\n",
        "\n",
        "plt.title('Perbandingan Akurasi Model')\n",
        "plt.ylabel('Akurasi (%)')\n",
        "plt.ylim(0, 110)\n",
        "plt.grid(axis='y', linestyle='--', alpha=0.6)\n",
        "plt.tight_layout()\n",
        "plt.show()\n",
        "\n",
        "\n"
      ],
      "metadata": {
        "colab": {
          "base_uri": "https://localhost:8080/",
          "height": 476
        },
        "id": "cwIGOeIl356q",
        "executionInfo": {
          "status": "ok",
          "timestamp": 1751019136807,
          "user_tz": -420,
          "elapsed": 716,
          "user": {
            "displayName": "Bastian Feraries Wijaya",
            "userId": "16724100675661699270"
          }
        },
        "outputId": "1deea02c-bd95-4691-fcb3-24548ba611b0"
      },
      "execution_count": 144,
      "outputs": [
        {
          "output_type": "stream",
          "name": "stdout",
          "text": [
            "\n",
            "Perbandingan Akurasi:\n",
            "SVM  : 100.00%\n",
            "BERT : 77.78%\n"
          ]
        },
        {
          "output_type": "display_data",
          "data": {
            "text/plain": [
              "<Figure size 600x400 with 1 Axes>"
            ],
            "image/png": "[encoded data removed]"
          },
          "metadata": {}
        }
      ]
    },
    {
      "cell_type": "code",
      "source": [
        "from sklearn.metrics import precision_recall_fscore_support\n",
        "\n",
        "# Ambil metrik evaluasi makro untuk kedua model\n",
        "svm_precision, svm_recall, svm_f1, _ = precision_recall_fscore_support(\n",
        "    y_test, y_pred_svm, average='macro', zero_division=0\n",
        ")\n",
        "bert_precision, bert_recall, bert_f1, _ = precision_recall_fscore_support(\n",
        "    y_test, y_pred_bert, average='macro', zero_division=0\n",
        ")\n",
        "\n",
        "# Simpan semua skor ke dalam dictionary\n",
        "scores = {\n",
        "    'Model': ['SVM', 'BERT'],\n",
        "    'Accuracy': [accuracy_score(y_test, y_pred_svm), accuracy_score(y_test, y_pred_bert)],\n",
        "    'Precision': [svm_precision, bert_precision],\n",
        "    'Recall': [svm_recall, bert_recall],\n",
        "    'F1-score': [svm_f1, bert_f1]\n",
        "}\n",
        "\n",
        "# Tampilkan tabel metrik secara rapi\n",
        "df_scores = pd.DataFrame(scores)\n",
        "print(\"\\n\ud83d\udcca Perbandingan Skor Evaluasi:\")\n",
        "print(df_scores.to_string(index=False, float_format=\"%.4f\"))\n"
      ],
      "metadata": {
        "colab": {
          "base_uri": "https://localhost:8080/"
        },
        "id": "O-b0fHMp4pvP",
        "executionInfo": {
          "status": "ok",
          "timestamp": 1751019332006,
          "user_tz": -420,
          "elapsed": 32,
          "user": {
            "displayName": "Bastian Feraries Wijaya",
            "userId": "16724100675661699270"
          }
        },
        "outputId": "d86c8955-b3de-40ef-a05c-d12d57b94c7c"
      },
      "execution_count": 150,
      "outputs": [
        {
          "output_type": "stream",
          "name": "stdout",
          "text": [
            "\n",
            "\ud83d\udcca Perbandingan Skor Evaluasi:\n",
            "Model  Accuracy  Precision  Recall  F1-score\n",
            "  SVM    1.0000     1.0000  1.0000    1.0000\n",
            " BERT    0.7778     0.3889  0.5000    0.4375\n"
          ]
        }
      ]
    },
    {
      "cell_type": "code",
      "source": [
        "import pandas as pd\n",
        "import matplotlib.pyplot as plt\n",
        "import numpy as np\n",
        "\n",
        "# Buat grafik bar untuk semua metrik\n",
        "metrics = ['Accuracy', 'Precision', 'Recall', 'F1-score']\n",
        "x = np.arange(len(metrics))\n",
        "width = 0.35\n",
        "\n",
        "plt.figure(figsize=(8, 5))\n",
        "plt.bar(x - width/2, df_scores.iloc[0, 1:].values * 100, width, label='SVM', color='skyblue')\n",
        "plt.bar(x + width/2, df_scores.iloc[1, 1:].values * 100, width, label='BERT', color='orange')\n",
        "\n",
        "# Label dan keterangan\n",
        "plt.xticks(x, metrics)\n",
        "plt.ylabel('Skor (%)')\n",
        "plt.title('Perbandingan Evaluasi Model')\n",
        "plt.ylim(0, 110)\n",
        "plt.legend()\n",
        "plt.grid(axis='y', linestyle='--', alpha=0.5)\n",
        "\n",
        "# Tambahkan nilai di atas bar\n",
        "for i in range(len(metrics)):\n",
        "    plt.text(x[i] - width/2, df_scores.iloc[0, i+1] * 100 + 1, f\"{df_scores.iloc[0, i+1]*100:.1f}%\", ha='center')\n",
        "    plt.text(x[i] + width/2, df_scores.iloc[1, i+1] * 100 + 1, f\"{df_scores.iloc[1, i+1]*100:.1f}%\", ha='center')\n",
        "\n",
        "plt.tight_layout()\n",
        "plt.show()\n"
      ],
      "metadata": {
        "colab": {
          "base_uri": "https://localhost:8080/",
          "height": 507
        },
        "id": "fozvJk-a392i",
        "executionInfo": {
          "status": "ok",
          "timestamp": 1751019333852,
          "user_tz": -420,
          "elapsed": 250,
          "user": {
            "displayName": "Bastian Feraries Wijaya",
            "userId": "16724100675661699270"
          }
        },
        "outputId": "41b46bb1-64ca-48a1-cf67-0cfb272fb47e"
      },
      "execution_count": 151,
      "outputs": [
        {
          "output_type": "display_data",
          "data": {
            "text/plain": [
              "<Figure size 800x500 with 1 Axes>"
            ],
            "image/png": "[encoded data removed]"
          },
          "metadata": {}
        }
      ]
    },
    {
      "cell_type": "markdown",
      "source": [
        "#EROR ANALYSIS"
      ],
      "metadata": {
        "id": "tp9zGcgA47mQ"
      }
    },
    {
      "cell_type": "code",
      "source": [
        "import pandas as pd\n",
        "import seaborn as sns\n",
        "import matplotlib.pyplot as plt\n",
        "from sklearn.metrics import confusion_matrix, ConfusionMatrixDisplay\n",
        "\n",
        "# Pastikan ini ada\n",
        "# y_test: label asli\n",
        "# y_pred_svm: hasil prediksi dari SVM\n",
        "# le: LabelEncoder()\n",
        "\n",
        "# 1. Confusion Matrix\n",
        "cm = confusion_matrix(y_test, y_pred_svm)\n",
        "labels = le.classes_\n",
        "\n",
        "# Plot\n",
        "disp = ConfusionMatrixDisplay(confusion_matrix=cm, display_labels=labels)\n",
        "disp.plot(cmap=\"Blues\")\n",
        "plt.title(\"Confusion Matrix - SVM\")\n",
        "plt.show()\n"
      ],
      "metadata": {
        "colab": {
          "base_uri": "https://localhost:8080/",
          "height": 472
        },
        "id": "ZE8cUyLX499K",
        "executionInfo": {
          "status": "ok",
          "timestamp": 1751019424754,
          "user_tz": -420,
          "elapsed": 452,
          "user": {
            "displayName": "Bastian Feraries Wijaya",
            "userId": "16724100675661699270"
          }
        },
        "outputId": "39bf3625-df31-4ed9-80a4-d9d00f25b6a3"
      },
      "execution_count": 152,
      "outputs": [
        {
          "output_type": "display_data",
          "data": {
            "text/plain": [
              "<Figure size 640x480 with 2 Axes>"
            ],
            "image/png": "[encoded data removed]"
          },
          "metadata": {}
        }
      ]
    },
    {
      "cell_type": "code",
      "source": [
        "# Konversi label ke bentuk string\n",
        "true_labels = le.inverse_transform(y_test)\n",
        "pred_labels = le.inverse_transform(y_pred_svm)\n",
        "\n",
        "# DataFrame perbandingan\n",
        "df_compare = pd.DataFrame({\n",
        "    \"Teks\": X_test,\n",
        "    \"Label Asli\": true_labels,\n",
        "    \"Prediksi SVM\": pred_labels\n",
        "})\n",
        "\n",
        "# Filter kesalahan\n",
        "df_salah = df_compare[df_compare[\"Label Asli\"] != df_compare[\"Prediksi SVM\"]]\n",
        "\n",
        "# Tampilkan\n",
        "print(\"=== Contoh Prediksi SVM yang Salah ===\")\n",
        "print(df_salah.head())\n"
      ],
      "metadata": {
        "colab": {
          "base_uri": "https://localhost:8080/"
        },
        "id": "ogJZvpD35CYv",
        "executionInfo": {
          "status": "ok",
          "timestamp": 1751019433168,
          "user_tz": -420,
          "elapsed": 29,
          "user": {
            "displayName": "Bastian Feraries Wijaya",
            "userId": "16724100675661699270"
          }
        },
        "outputId": "66cef091-1f9e-4540-b88b-5f2060d41640"
      },
      "execution_count": 153,
      "outputs": [
        {
          "output_type": "stream",
          "name": "stdout",
          "text": [
            "=== Contoh Prediksi SVM yang Salah ===\n",
            "Empty DataFrame\n",
            "Columns: [Teks, Label Asli, Prediksi SVM]\n",
            "Index: []\n"
          ]
        }
      ]
    },
    {
      "cell_type": "code",
      "source": [
        "print(\"\"\"\n",
        "\ud83d\udcc9 ANALISIS KESALAHAN MODEL SVM\n",
        "\n",
        "Berdasarkan hasil evaluasi dan confusion matrix, model SVM tidak mampu mengklasifikasikan beberapa teks kasus dengan benar. Hal ini dapat disebabkan oleh:\n",
        "\n",
        "1. \ud83d\udd0e Struktur teks yang sangat pendek dan seragam, sehingga fitur TF-IDF tidak cukup menangkap konteks hukum yang penting.\n",
        "2. \u2696\ufe0f Ketidakseimbangan kelas (misalnya terlalu banyak data 'pencurian_biasa').\n",
        "3. \ud83d\udcca Ukuran dataset yang kecil (< 100 data), membuat model kekurangan variasi pola.\n",
        "4. \ud83e\udde0 Model SVM tidak mempertimbangkan urutan kata atau semantik mendalam seperti yang dilakukan oleh model berbasis transformer (BERT).\n",
        "\n",
        "Sebagai akibatnya, SVM menghasilkan akurasi rendah dan gagal memisahkan beberapa kategori seperti 'pencurian_berat' dan 'lainnya'.\n",
        "\n",
        "\u2705 Rekomendasi: Gunakan model berbasis BERT atau fine-tuning transformer yang mampu memahami makna kalimat secara kontekstual.\n",
        "\"\"\")\n"
      ],
      "metadata": {
        "colab": {
          "base_uri": "https://localhost:8080/"
        },
        "id": "MbKsH50m5E2y",
        "executionInfo": {
          "status": "ok",
          "timestamp": 1751019443821,
          "user_tz": -420,
          "elapsed": 45,
          "user": {
            "displayName": "Bastian Feraries Wijaya",
            "userId": "16724100675661699270"
          }
        },
        "outputId": "dfd602cb-a78e-4738-d4dc-d534b3c9e316"
      },
      "execution_count": 154,
      "outputs": [
        {
          "output_type": "stream",
          "name": "stdout",
          "text": [
            "\n",
            "\ud83d\udcc9 ANALISIS KESALAHAN MODEL SVM\n",
            "\n",
            "Berdasarkan hasil evaluasi dan confusion matrix, model SVM tidak mampu mengklasifikasikan beberapa teks kasus dengan benar. Hal ini dapat disebabkan oleh:\n",
            "\n",
            "1. \ud83d\udd0e Struktur teks yang sangat pendek dan seragam, sehingga fitur TF-IDF tidak cukup menangkap konteks hukum yang penting.\n",
            "2. \u2696\ufe0f Ketidakseimbangan kelas (misalnya terlalu banyak data 'pencurian_biasa').\n",
            "3. \ud83d\udcca Ukuran dataset yang kecil (< 100 data), membuat model kekurangan variasi pola.\n",
            "4. \ud83e\udde0 Model SVM tidak mempertimbangkan urutan kata atau semantik mendalam seperti yang dilakukan oleh model berbasis transformer (BERT).\n",
            "\n",
            "Sebagai akibatnya, SVM menghasilkan akurasi rendah dan gagal memisahkan beberapa kategori seperti 'pencurian_berat' dan 'lainnya'.\n",
            "\n",
            "\u2705 Rekomendasi: Gunakan model berbasis BERT atau fine-tuning transformer yang mampu memahami makna kalimat secara kontekstual.\n",
            "\n"
          ]
        }
      ]
    }
  ]
}